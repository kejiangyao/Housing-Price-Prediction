{
 "cells": [
  {
   "cell_type": "markdown",
   "id": "d8e995ba",
   "metadata": {},
   "source": [
    "# Part 1:\n",
    "Use proper data cleansing techniques to ensure \n",
    "that you have the highest quality data to model this problem. Detail your process \n",
    "and discuss the decisions you made to clean the data."
   ]
  },
  {
   "cell_type": "code",
   "execution_count": 1,
   "id": "a1bba6b3",
   "metadata": {},
   "outputs": [],
   "source": [
    "import pandas as pd\n",
    "import numpy as np"
   ]
  },
  {
   "cell_type": "code",
   "execution_count": 2,
   "id": "2b06fc36",
   "metadata": {},
   "outputs": [],
   "source": [
    "df = pd.read_csv('/Users/kejiangyao/Desktop/ALY 6020/Module 4/week 4 - Nashville_housing_data.csv')"
   ]
  },
  {
   "cell_type": "code",
   "execution_count": 3,
   "id": "1f418411",
   "metadata": {},
   "outputs": [
    {
     "data": {
      "text/html": [
       "<div>\n",
       "<style scoped>\n",
       "    .dataframe tbody tr th:only-of-type {\n",
       "        vertical-align: middle;\n",
       "    }\n",
       "\n",
       "    .dataframe tbody tr th {\n",
       "        vertical-align: top;\n",
       "    }\n",
       "\n",
       "    .dataframe thead th {\n",
       "        text-align: right;\n",
       "    }\n",
       "</style>\n",
       "<table border=\"1\" class=\"dataframe\">\n",
       "  <thead>\n",
       "    <tr style=\"text-align: right;\">\n",
       "      <th></th>\n",
       "      <th>Unnamed: 0</th>\n",
       "      <th>Parcel ID</th>\n",
       "      <th>Land Use</th>\n",
       "      <th>Property Address</th>\n",
       "      <th>Suite/ Condo   #</th>\n",
       "      <th>Property City</th>\n",
       "      <th>Sale Date</th>\n",
       "      <th>Legal Reference</th>\n",
       "      <th>Sold As Vacant</th>\n",
       "      <th>Multiple Parcels Involved in Sale</th>\n",
       "      <th>...</th>\n",
       "      <th>Building Value</th>\n",
       "      <th>Finished Area</th>\n",
       "      <th>Foundation Type</th>\n",
       "      <th>Year Built</th>\n",
       "      <th>Exterior Wall</th>\n",
       "      <th>Grade</th>\n",
       "      <th>Bedrooms</th>\n",
       "      <th>Full Bath</th>\n",
       "      <th>Half Bath</th>\n",
       "      <th>Sale Price Compared To Value</th>\n",
       "    </tr>\n",
       "  </thead>\n",
       "  <tbody>\n",
       "    <tr>\n",
       "      <th>0</th>\n",
       "      <td>1</td>\n",
       "      <td>105 11 0 080.00</td>\n",
       "      <td>SINGLE FAMILY</td>\n",
       "      <td>1802  STEWART PL</td>\n",
       "      <td>NaN</td>\n",
       "      <td>NASHVILLE</td>\n",
       "      <td>1/11/2013</td>\n",
       "      <td>20130118-0006337</td>\n",
       "      <td>No</td>\n",
       "      <td>No</td>\n",
       "      <td>...</td>\n",
       "      <td>134400</td>\n",
       "      <td>1149.00000</td>\n",
       "      <td>PT BSMT</td>\n",
       "      <td>1941</td>\n",
       "      <td>BRICK</td>\n",
       "      <td>C</td>\n",
       "      <td>2.0</td>\n",
       "      <td>1.0</td>\n",
       "      <td>0.0</td>\n",
       "      <td>Over</td>\n",
       "    </tr>\n",
       "    <tr>\n",
       "      <th>1</th>\n",
       "      <td>2</td>\n",
       "      <td>118 03 0 130.00</td>\n",
       "      <td>SINGLE FAMILY</td>\n",
       "      <td>2761  ROSEDALE PL</td>\n",
       "      <td>NaN</td>\n",
       "      <td>NASHVILLE</td>\n",
       "      <td>1/18/2013</td>\n",
       "      <td>20130124-0008033</td>\n",
       "      <td>No</td>\n",
       "      <td>No</td>\n",
       "      <td>...</td>\n",
       "      <td>157800</td>\n",
       "      <td>2090.82495</td>\n",
       "      <td>SLAB</td>\n",
       "      <td>2000</td>\n",
       "      <td>BRICK/FRAME</td>\n",
       "      <td>C</td>\n",
       "      <td>3.0</td>\n",
       "      <td>2.0</td>\n",
       "      <td>1.0</td>\n",
       "      <td>Over</td>\n",
       "    </tr>\n",
       "    <tr>\n",
       "      <th>2</th>\n",
       "      <td>3</td>\n",
       "      <td>119 01 0 479.00</td>\n",
       "      <td>SINGLE FAMILY</td>\n",
       "      <td>224  PEACHTREE ST</td>\n",
       "      <td>NaN</td>\n",
       "      <td>NASHVILLE</td>\n",
       "      <td>1/18/2013</td>\n",
       "      <td>20130128-0008863</td>\n",
       "      <td>No</td>\n",
       "      <td>No</td>\n",
       "      <td>...</td>\n",
       "      <td>243700</td>\n",
       "      <td>2145.60001</td>\n",
       "      <td>FULL BSMT</td>\n",
       "      <td>1948</td>\n",
       "      <td>BRICK/FRAME</td>\n",
       "      <td>B</td>\n",
       "      <td>4.0</td>\n",
       "      <td>2.0</td>\n",
       "      <td>0.0</td>\n",
       "      <td>Under</td>\n",
       "    </tr>\n",
       "    <tr>\n",
       "      <th>3</th>\n",
       "      <td>4</td>\n",
       "      <td>119 05 0 186.00</td>\n",
       "      <td>SINGLE FAMILY</td>\n",
       "      <td>316  LUTIE ST</td>\n",
       "      <td>NaN</td>\n",
       "      <td>NASHVILLE</td>\n",
       "      <td>1/23/2013</td>\n",
       "      <td>20130131-0009929</td>\n",
       "      <td>No</td>\n",
       "      <td>No</td>\n",
       "      <td>...</td>\n",
       "      <td>138100</td>\n",
       "      <td>1969.00000</td>\n",
       "      <td>CRAWL</td>\n",
       "      <td>1910</td>\n",
       "      <td>FRAME</td>\n",
       "      <td>C</td>\n",
       "      <td>2.0</td>\n",
       "      <td>1.0</td>\n",
       "      <td>0.0</td>\n",
       "      <td>Under</td>\n",
       "    </tr>\n",
       "    <tr>\n",
       "      <th>4</th>\n",
       "      <td>5</td>\n",
       "      <td>119 05 0 387.00</td>\n",
       "      <td>SINGLE FAMILY</td>\n",
       "      <td>2626  FOSTER AVE</td>\n",
       "      <td>NaN</td>\n",
       "      <td>NASHVILLE</td>\n",
       "      <td>1/4/2013</td>\n",
       "      <td>20130118-0006110</td>\n",
       "      <td>No</td>\n",
       "      <td>No</td>\n",
       "      <td>...</td>\n",
       "      <td>86100</td>\n",
       "      <td>1037.00000</td>\n",
       "      <td>CRAWL</td>\n",
       "      <td>1945</td>\n",
       "      <td>FRAME</td>\n",
       "      <td>C</td>\n",
       "      <td>2.0</td>\n",
       "      <td>1.0</td>\n",
       "      <td>0.0</td>\n",
       "      <td>Under</td>\n",
       "    </tr>\n",
       "  </tbody>\n",
       "</table>\n",
       "<p>5 rows × 26 columns</p>\n",
       "</div>"
      ],
      "text/plain": [
       "   Unnamed: 0        Parcel ID       Land Use   Property Address  \\\n",
       "0           1  105 11 0 080.00  SINGLE FAMILY   1802  STEWART PL   \n",
       "1           2  118 03 0 130.00  SINGLE FAMILY  2761  ROSEDALE PL   \n",
       "2           3  119 01 0 479.00  SINGLE FAMILY  224  PEACHTREE ST   \n",
       "3           4  119 05 0 186.00  SINGLE FAMILY      316  LUTIE ST   \n",
       "4           5  119 05 0 387.00  SINGLE FAMILY   2626  FOSTER AVE   \n",
       "\n",
       "   Suite/ Condo   # Property City  Sale Date   Legal Reference Sold As Vacant  \\\n",
       "0               NaN     NASHVILLE  1/11/2013  20130118-0006337             No   \n",
       "1               NaN     NASHVILLE  1/18/2013  20130124-0008033             No   \n",
       "2               NaN     NASHVILLE  1/18/2013  20130128-0008863             No   \n",
       "3               NaN     NASHVILLE  1/23/2013  20130131-0009929             No   \n",
       "4               NaN     NASHVILLE   1/4/2013  20130118-0006110             No   \n",
       "\n",
       "  Multiple Parcels Involved in Sale  ... Building Value Finished Area  \\\n",
       "0                                No  ...         134400    1149.00000   \n",
       "1                                No  ...         157800    2090.82495   \n",
       "2                                No  ...         243700    2145.60001   \n",
       "3                                No  ...         138100    1969.00000   \n",
       "4                                No  ...          86100    1037.00000   \n",
       "\n",
       "   Foundation Type Year Built  Exterior Wall  Grade  Bedrooms  Full Bath  \\\n",
       "0          PT BSMT       1941          BRICK   C          2.0        1.0   \n",
       "1             SLAB       2000    BRICK/FRAME   C          3.0        2.0   \n",
       "2        FULL BSMT       1948    BRICK/FRAME   B          4.0        2.0   \n",
       "3            CRAWL       1910          FRAME   C          2.0        1.0   \n",
       "4            CRAWL       1945          FRAME   C          2.0        1.0   \n",
       "\n",
       "  Half Bath  Sale Price Compared To Value  \n",
       "0       0.0                          Over  \n",
       "1       1.0                          Over  \n",
       "2       0.0                         Under  \n",
       "3       0.0                         Under  \n",
       "4       0.0                         Under  \n",
       "\n",
       "[5 rows x 26 columns]"
      ]
     },
     "execution_count": 3,
     "metadata": {},
     "output_type": "execute_result"
    }
   ],
   "source": [
    "#Display top 5 rows of dataset\n",
    "df.head()"
   ]
  },
  {
   "cell_type": "code",
   "execution_count": 4,
   "id": "c60ef2ee",
   "metadata": {},
   "outputs": [
    {
     "data": {
      "text/html": [
       "<div>\n",
       "<style scoped>\n",
       "    .dataframe tbody tr th:only-of-type {\n",
       "        vertical-align: middle;\n",
       "    }\n",
       "\n",
       "    .dataframe tbody tr th {\n",
       "        vertical-align: top;\n",
       "    }\n",
       "\n",
       "    .dataframe thead th {\n",
       "        text-align: right;\n",
       "    }\n",
       "</style>\n",
       "<table border=\"1\" class=\"dataframe\">\n",
       "  <thead>\n",
       "    <tr style=\"text-align: right;\">\n",
       "      <th></th>\n",
       "      <th>0</th>\n",
       "    </tr>\n",
       "  </thead>\n",
       "  <tbody>\n",
       "    <tr>\n",
       "      <th>Unnamed: 0</th>\n",
       "      <td>0</td>\n",
       "    </tr>\n",
       "    <tr>\n",
       "      <th>Parcel ID</th>\n",
       "      <td>0</td>\n",
       "    </tr>\n",
       "    <tr>\n",
       "      <th>Land Use</th>\n",
       "      <td>0</td>\n",
       "    </tr>\n",
       "    <tr>\n",
       "      <th>Property Address</th>\n",
       "      <td>2</td>\n",
       "    </tr>\n",
       "    <tr>\n",
       "      <th>Suite/ Condo   #</th>\n",
       "      <td>22651</td>\n",
       "    </tr>\n",
       "    <tr>\n",
       "      <th>Property City</th>\n",
       "      <td>2</td>\n",
       "    </tr>\n",
       "    <tr>\n",
       "      <th>Sale Date</th>\n",
       "      <td>0</td>\n",
       "    </tr>\n",
       "    <tr>\n",
       "      <th>Legal Reference</th>\n",
       "      <td>0</td>\n",
       "    </tr>\n",
       "    <tr>\n",
       "      <th>Sold As Vacant</th>\n",
       "      <td>0</td>\n",
       "    </tr>\n",
       "    <tr>\n",
       "      <th>Multiple Parcels Involved in Sale</th>\n",
       "      <td>0</td>\n",
       "    </tr>\n",
       "    <tr>\n",
       "      <th>City</th>\n",
       "      <td>0</td>\n",
       "    </tr>\n",
       "    <tr>\n",
       "      <th>State</th>\n",
       "      <td>0</td>\n",
       "    </tr>\n",
       "    <tr>\n",
       "      <th>Acreage</th>\n",
       "      <td>0</td>\n",
       "    </tr>\n",
       "    <tr>\n",
       "      <th>Tax District</th>\n",
       "      <td>0</td>\n",
       "    </tr>\n",
       "    <tr>\n",
       "      <th>Neighborhood</th>\n",
       "      <td>0</td>\n",
       "    </tr>\n",
       "    <tr>\n",
       "      <th>Land Value</th>\n",
       "      <td>0</td>\n",
       "    </tr>\n",
       "    <tr>\n",
       "      <th>Building Value</th>\n",
       "      <td>0</td>\n",
       "    </tr>\n",
       "    <tr>\n",
       "      <th>Finished Area</th>\n",
       "      <td>1</td>\n",
       "    </tr>\n",
       "    <tr>\n",
       "      <th>Foundation Type</th>\n",
       "      <td>1</td>\n",
       "    </tr>\n",
       "    <tr>\n",
       "      <th>Year Built</th>\n",
       "      <td>0</td>\n",
       "    </tr>\n",
       "    <tr>\n",
       "      <th>Exterior Wall</th>\n",
       "      <td>0</td>\n",
       "    </tr>\n",
       "    <tr>\n",
       "      <th>Grade</th>\n",
       "      <td>0</td>\n",
       "    </tr>\n",
       "    <tr>\n",
       "      <th>Bedrooms</th>\n",
       "      <td>3</td>\n",
       "    </tr>\n",
       "    <tr>\n",
       "      <th>Full Bath</th>\n",
       "      <td>1</td>\n",
       "    </tr>\n",
       "    <tr>\n",
       "      <th>Half Bath</th>\n",
       "      <td>108</td>\n",
       "    </tr>\n",
       "    <tr>\n",
       "      <th>Sale Price Compared To Value</th>\n",
       "      <td>0</td>\n",
       "    </tr>\n",
       "  </tbody>\n",
       "</table>\n",
       "</div>"
      ],
      "text/plain": [
       "                                       0\n",
       "Unnamed: 0                             0\n",
       "Parcel ID                              0\n",
       "Land Use                               0\n",
       "Property Address                       2\n",
       "Suite/ Condo   #                   22651\n",
       "Property City                          2\n",
       "Sale Date                              0\n",
       "Legal Reference                        0\n",
       "Sold As Vacant                         0\n",
       "Multiple Parcels Involved in Sale      0\n",
       "City                                   0\n",
       "State                                  0\n",
       "Acreage                                0\n",
       "Tax District                           0\n",
       "Neighborhood                           0\n",
       "Land Value                             0\n",
       "Building Value                         0\n",
       "Finished Area                          1\n",
       "Foundation Type                        1\n",
       "Year Built                             0\n",
       "Exterior Wall                          0\n",
       "Grade                                  0\n",
       "Bedrooms                               3\n",
       "Full Bath                              1\n",
       "Half Bath                            108\n",
       "Sale Price Compared To Value           0"
      ]
     },
     "execution_count": 4,
     "metadata": {},
     "output_type": "execute_result"
    }
   ],
   "source": [
    "#check missing value\n",
    "pd.DataFrame(df.isnull().sum())"
   ]
  },
  {
   "cell_type": "code",
   "execution_count": 5,
   "id": "03b0c160",
   "metadata": {},
   "outputs": [],
   "source": [
    "#Drop Suite/ Condo # column\n",
    "df = df.drop(columns = ['Suite/ Condo   #'])"
   ]
  },
  {
   "cell_type": "code",
   "execution_count": 6,
   "id": "966a37b9",
   "metadata": {},
   "outputs": [],
   "source": [
    "#drop all records with at least 1 na value\n",
    "df = df.dropna()"
   ]
  },
  {
   "cell_type": "code",
   "execution_count": 7,
   "id": "87f7f97f",
   "metadata": {},
   "outputs": [],
   "source": [
    "#convert sale date into year, month, day\n",
    "df['Sale Date'] = pd.to_datetime(df['Sale Date'])\n",
    "df['Year_Sale'] = df['Sale Date'].apply(lambda x: x.year)\n",
    "df['Month_Sale'] = df['Sale Date'].apply(lambda x: x.month)\n",
    "df['Day_Sale'] = df['Sale Date'].apply(lambda x: x.day)\n",
    "df = df.drop('Sale Date', axis=1)"
   ]
  },
  {
   "cell_type": "code",
   "execution_count": 8,
   "id": "0039cf19",
   "metadata": {},
   "outputs": [
    {
     "name": "stdout",
     "output_type": "stream",
     "text": [
      "<class 'pandas.core.frame.DataFrame'>\n",
      "Int64Index: 22536 entries, 0 to 22650\n",
      "Data columns (total 27 columns):\n",
      " #   Column                             Non-Null Count  Dtype  \n",
      "---  ------                             --------------  -----  \n",
      " 0   Unnamed: 0                         22536 non-null  int64  \n",
      " 1   Parcel ID                          22536 non-null  object \n",
      " 2   Land Use                           22536 non-null  object \n",
      " 3   Property Address                   22536 non-null  object \n",
      " 4   Property City                      22536 non-null  object \n",
      " 5   Legal Reference                    22536 non-null  object \n",
      " 6   Sold As Vacant                     22536 non-null  object \n",
      " 7   Multiple Parcels Involved in Sale  22536 non-null  object \n",
      " 8   City                               22536 non-null  object \n",
      " 9   State                              22536 non-null  object \n",
      " 10  Acreage                            22536 non-null  float64\n",
      " 11  Tax District                       22536 non-null  object \n",
      " 12  Neighborhood                       22536 non-null  int64  \n",
      " 13  Land Value                         22536 non-null  int64  \n",
      " 14  Building Value                     22536 non-null  int64  \n",
      " 15  Finished Area                      22536 non-null  float64\n",
      " 16  Foundation Type                    22536 non-null  object \n",
      " 17  Year Built                         22536 non-null  int64  \n",
      " 18  Exterior Wall                      22536 non-null  object \n",
      " 19  Grade                              22536 non-null  object \n",
      " 20  Bedrooms                           22536 non-null  float64\n",
      " 21  Full Bath                          22536 non-null  float64\n",
      " 22  Half Bath                          22536 non-null  float64\n",
      " 23  Sale Price Compared To Value       22536 non-null  object \n",
      " 24  Year_Sale                          22536 non-null  int64  \n",
      " 25  Month_Sale                         22536 non-null  int64  \n",
      " 26  Day_Sale                           22536 non-null  int64  \n",
      "dtypes: float64(5), int64(8), object(14)\n",
      "memory usage: 4.8+ MB\n"
     ]
    }
   ],
   "source": [
    "df.info()"
   ]
  },
  {
   "cell_type": "code",
   "execution_count": 9,
   "id": "2b8d1fbc",
   "metadata": {},
   "outputs": [],
   "source": [
    "import seaborn as sns\n",
    "import matplotlib.pyplot as plt"
   ]
  },
  {
   "cell_type": "code",
   "execution_count": 10,
   "id": "0d9be763",
   "metadata": {},
   "outputs": [
    {
     "data": {
      "text/plain": [
       "[None, None, None, None, None, None, None, None]"
      ]
     },
     "execution_count": 10,
     "metadata": {},
     "output_type": "execute_result"
    },
    {
     "data": {
      "image/png": "[encoded data removed]",
      "text/plain": [
       "<Figure size 432x288 with 1 Axes>"
      ]
     },
     "metadata": {
      "needs_background": "light"
     },
     "output_type": "display_data"
    }
   ],
   "source": [
    "#Land Use\n",
    "plot = sns.countplot(x=df[\"Land Use\"])\n",
    "plot.bar_label(plot.containers[0])\n",
    "plt.setp(plot.get_xticklabels(), rotation=90)"
   ]
  },
  {
   "cell_type": "code",
   "execution_count": 11,
   "id": "aebaee6a",
   "metadata": {},
   "outputs": [
    {
     "data": {
      "text/plain": [
       "[Text(0, 0, '17925'),\n",
       " Text(0, 0, '1133'),\n",
       " Text(0, 0, '158'),\n",
       " Text(0, 0, '1145'),\n",
       " Text(0, 0, '797'),\n",
       " Text(0, 0, '913'),\n",
       " Text(0, 0, '435'),\n",
       " Text(0, 0, '11'),\n",
       " Text(0, 0, '13'),\n",
       " Text(0, 0, '6')]"
      ]
     },
     "execution_count": 11,
     "metadata": {},
     "output_type": "execute_result"
    },
    {
     "data": {
      "image/png": "[encoded data removed]",
      "text/plain": [
       "<Figure size 432x288 with 1 Axes>"
      ]
     },
     "metadata": {
      "needs_background": "light"
     },
     "output_type": "display_data"
    }
   ],
   "source": [
    "#Property City\n",
    "plot = sns.countplot(x=df[\"Property City\"])\n",
    "plt.setp(plot.get_xticklabels(), rotation=90)\n",
    "plot.bar_label(plot.containers[0])"
   ]
  },
  {
   "cell_type": "code",
   "execution_count": 12,
   "id": "65a7cecd",
   "metadata": {},
   "outputs": [
    {
     "data": {
      "text/plain": [
       "[Text(0, 0, '17926'),\n",
       " Text(0, 0, '1133'),\n",
       " Text(0, 0, '157'),\n",
       " Text(0, 0, '1145'),\n",
       " Text(0, 0, '797'),\n",
       " Text(0, 0, '913'),\n",
       " Text(0, 0, '435'),\n",
       " Text(0, 0, '11'),\n",
       " Text(0, 0, '13'),\n",
       " Text(0, 0, '6')]"
      ]
     },
     "execution_count": 12,
     "metadata": {},
     "output_type": "execute_result"
    },
    {
     "data": {
      "image/png": "[encoded data removed]",
      "text/plain": [
       "<Figure size 432x288 with 1 Axes>"
      ]
     },
     "metadata": {
      "needs_background": "light"
     },
     "output_type": "display_data"
    }
   ],
   "source": [
    "#City\n",
    "plot = sns.countplot(x=df[\"City\"])\n",
    "plt.setp(plot.get_xticklabels(), rotation=90)\n",
    "plot.bar_label(plot.containers[0])"
   ]
  },
  {
   "cell_type": "code",
   "execution_count": 13,
   "id": "085aef55",
   "metadata": {},
   "outputs": [],
   "source": [
    "df = df.drop(columns = ['City'])"
   ]
  },
  {
   "cell_type": "code",
   "execution_count": 14,
   "id": "2e887bcd",
   "metadata": {},
   "outputs": [
    {
     "data": {
      "text/plain": [
       "[Text(0, 0, '4860'),\n",
       " Text(0, 0, '5716'),\n",
       " Text(0, 0, '6387'),\n",
       " Text(0, 0, '5573')]"
      ]
     },
     "execution_count": 14,
     "metadata": {},
     "output_type": "execute_result"
    },
    {
     "data": {
      "image/png": "[encoded data removed]",
      "text/plain": [
       "<Figure size 432x288 with 1 Axes>"
      ]
     },
     "metadata": {
      "needs_background": "light"
     },
     "output_type": "display_data"
    }
   ],
   "source": [
    "#sale year\n",
    "plot = sns.countplot(x=df[\"Year_Sale\"])\n",
    "plot.bar_label(plot.containers[0])"
   ]
  },
  {
   "cell_type": "code",
   "execution_count": 15,
   "id": "389cf12f",
   "metadata": {},
   "outputs": [
    {
     "data": {
      "text/plain": [
       "[Text(0, 0, '1206'),\n",
       " Text(0, 0, '1145'),\n",
       " Text(0, 0, '1824'),\n",
       " Text(0, 0, '2051'),\n",
       " Text(0, 0, '2353'),\n",
       " Text(0, 0, '2667'),\n",
       " Text(0, 0, '2259'),\n",
       " Text(0, 0, '2218'),\n",
       " Text(0, 0, '2099'),\n",
       " Text(0, 0, '1995'),\n",
       " Text(0, 0, '1263'),\n",
       " Text(0, 0, '1456')]"
      ]
     },
     "execution_count": 15,
     "metadata": {},
     "output_type": "execute_result"
    },
    {
     "data": {
      "image/png": "[encoded data removed]",
      "text/plain": [
       "<Figure size 432x288 with 1 Axes>"
      ]
     },
     "metadata": {
      "needs_background": "light"
     },
     "output_type": "display_data"
    }
   ],
   "source": [
    "#sale month\n",
    "plot = sns.countplot(x=df[\"Month_Sale\"])\n",
    "plot.bar_label(plot.containers[0])"
   ]
  },
  {
   "cell_type": "code",
   "execution_count": 16,
   "id": "48b245bf",
   "metadata": {},
   "outputs": [
    {
     "data": {
      "text/plain": [
       "[Text(0, 0, '771'),\n",
       " Text(0, 0, '577'),\n",
       " Text(0, 0, '569'),\n",
       " Text(0, 0, '548'),\n",
       " Text(0, 0, '579'),\n",
       " Text(0, 0, '600'),\n",
       " Text(0, 0, '572'),\n",
       " Text(0, 0, '638'),\n",
       " Text(0, 0, '578'),\n",
       " Text(0, 0, '730'),\n",
       " Text(0, 0, '605'),\n",
       " Text(0, 0, '704'),\n",
       " Text(0, 0, '651'),\n",
       " Text(0, 0, '779'),\n",
       " Text(0, 0, '1160'),\n",
       " Text(0, 0, '719'),\n",
       " Text(0, 0, '688'),\n",
       " Text(0, 0, '710'),\n",
       " Text(0, 0, '701'),\n",
       " Text(0, 0, '733'),\n",
       " Text(0, 0, '659'),\n",
       " Text(0, 0, '748'),\n",
       " Text(0, 0, '618'),\n",
       " Text(0, 0, '715'),\n",
       " Text(0, 0, '780'),\n",
       " Text(0, 0, '701'),\n",
       " Text(0, 0, '662'),\n",
       " Text(0, 0, '919'),\n",
       " Text(0, 0, '923'),\n",
       " Text(0, 0, '1302'),\n",
       " Text(0, 0, '897')]"
      ]
     },
     "execution_count": 16,
     "metadata": {},
     "output_type": "execute_result"
    },
    {
     "data": {
      "image/png": "[encoded data removed]",
      "text/plain": [
       "<Figure size 432x288 with 1 Axes>"
      ]
     },
     "metadata": {
      "needs_background": "light"
     },
     "output_type": "display_data"
    }
   ],
   "source": [
    "#sale day\n",
    "plot = sns.countplot(x=df[\"Day_Sale\"])\n",
    "plot.bar_label(plot.containers[0])"
   ]
  },
  {
   "cell_type": "code",
   "execution_count": 17,
   "id": "2136cf49",
   "metadata": {},
   "outputs": [
    {
     "data": {
      "text/plain": [
       "[Text(0, 0, '22402'), Text(0, 0, '134')]"
      ]
     },
     "execution_count": 17,
     "metadata": {},
     "output_type": "execute_result"
    },
    {
     "data": {
      "image/png": "[encoded data removed]",
      "text/plain": [
       "<Figure size 432x288 with 1 Axes>"
      ]
     },
     "metadata": {
      "needs_background": "light"
     },
     "output_type": "display_data"
    }
   ],
   "source": [
    "#Sold As Vacant\n",
    "plot = sns.countplot(x=df[\"Sold As Vacant\"])\n",
    "plot.bar_label(plot.containers[0])"
   ]
  },
  {
   "cell_type": "code",
   "execution_count": 18,
   "id": "2793346c",
   "metadata": {},
   "outputs": [],
   "source": [
    "#Convert yes to 1 and no to 0\n",
    "df['Sold As Vacant'] = df['Sold As Vacant'].map({'Yes': 1, 'No': 0})"
   ]
  },
  {
   "cell_type": "code",
   "execution_count": 19,
   "id": "2e606704",
   "metadata": {},
   "outputs": [
    {
     "data": {
      "text/plain": [
       "[Text(0, 0, '22069'), Text(0, 0, '467')]"
      ]
     },
     "execution_count": 19,
     "metadata": {},
     "output_type": "execute_result"
    },
    {
     "data": {
      "image/png": "[encoded data removed]",
      "text/plain": [
       "<Figure size 432x288 with 1 Axes>"
      ]
     },
     "metadata": {
      "needs_background": "light"
     },
     "output_type": "display_data"
    }
   ],
   "source": [
    "#Multiple Parcels Involved in Sale\n",
    "plot = sns.countplot(x=df[\"Multiple Parcels Involved in Sale\"])\n",
    "plot.bar_label(plot.containers[0])"
   ]
  },
  {
   "cell_type": "code",
   "execution_count": 20,
   "id": "b7436eb0",
   "metadata": {},
   "outputs": [],
   "source": [
    "#Convert yes to 1 and no to 0\n",
    "df['Multiple Parcels Involved in Sale'] = df['Multiple Parcels Involved in Sale'].map({'Yes': 1, 'No': 0})"
   ]
  },
  {
   "cell_type": "code",
   "execution_count": 21,
   "id": "75a120c4",
   "metadata": {},
   "outputs": [
    {
     "data": {
      "text/plain": [
       "[Text(0, 0, '22536')]"
      ]
     },
     "execution_count": 21,
     "metadata": {},
     "output_type": "execute_result"
    },
    {
     "data": {
      "image/png": "[encoded data removed]",
      "text/plain": [
       "<Figure size 432x288 with 1 Axes>"
      ]
     },
     "metadata": {
      "needs_background": "light"
     },
     "output_type": "display_data"
    }
   ],
   "source": [
    "#State\n",
    "plot = sns.countplot(x=df[\"State\"])\n",
    "plot.bar_label(plot.containers[0])"
   ]
  },
  {
   "cell_type": "code",
   "execution_count": 22,
   "id": "45a4629e",
   "metadata": {},
   "outputs": [],
   "source": [
    "#drop state column\n",
    "df = df.drop(columns = ['State'])"
   ]
  },
  {
   "cell_type": "code",
   "execution_count": 23,
   "id": "33b88518",
   "metadata": {},
   "outputs": [
    {
     "data": {
      "text/plain": [
       "<AxesSubplot:ylabel='Acreage'>"
      ]
     },
     "execution_count": 23,
     "metadata": {},
     "output_type": "execute_result"
    },
    {
     "data": {
      "image/png": "[encoded data removed]",
      "text/plain": [
       "<Figure size 432x288 with 1 Axes>"
      ]
     },
     "metadata": {
      "needs_background": "light"
     },
     "output_type": "display_data"
    }
   ],
   "source": [
    "#Acreage\n",
    "sns.boxplot(y=df[\"Acreage\"])"
   ]
  },
  {
   "cell_type": "code",
   "execution_count": 24,
   "id": "b32253cd",
   "metadata": {},
   "outputs": [
    {
     "data": {
      "text/plain": [
       "[Text(0, 0, '17411'),\n",
       " Text(0, 0, '21'),\n",
       " Text(0, 0, '3853'),\n",
       " Text(0, 0, '214'),\n",
       " Text(0, 0, '348'),\n",
       " Text(0, 0, '345'),\n",
       " Text(0, 0, '344')]"
      ]
     },
     "execution_count": 24,
     "metadata": {},
     "output_type": "execute_result"
    },
    {
     "data": {
      "image/png": "[encoded data removed]",
      "text/plain": [
       "<Figure size 432x288 with 1 Axes>"
      ]
     },
     "metadata": {
      "needs_background": "light"
     },
     "output_type": "display_data"
    }
   ],
   "source": [
    "#Tax District\n",
    "plot = sns.countplot(x=df[\"Tax District\"])\n",
    "plt.setp(plot.get_xticklabels(), rotation=90)\n",
    "plot.bar_label(plot.containers[0])"
   ]
  },
  {
   "cell_type": "code",
   "execution_count": 25,
   "id": "5624cee6",
   "metadata": {},
   "outputs": [
    {
     "data": {
      "text/plain": [
       "<AxesSubplot:ylabel='Neighborhood'>"
      ]
     },
     "execution_count": 25,
     "metadata": {},
     "output_type": "execute_result"
    },
    {
     "data": {
      "image/png": "[encoded data removed]",
      "text/plain": [
       "<Figure size 432x288 with 1 Axes>"
      ]
     },
     "metadata": {
      "needs_background": "light"
     },
     "output_type": "display_data"
    }
   ],
   "source": [
    "#Neighborhood\n",
    "sns.boxplot(y=df[\"Neighborhood\"])"
   ]
  },
  {
   "cell_type": "code",
   "execution_count": 26,
   "id": "66b88537",
   "metadata": {},
   "outputs": [
    {
     "data": {
      "text/plain": [
       "<AxesSubplot:xlabel='Land Value', ylabel='Count'>"
      ]
     },
     "execution_count": 26,
     "metadata": {},
     "output_type": "execute_result"
    },
    {
     "data": {
      "image/png": "[encoded data removed]",
      "text/plain": [
       "<Figure size 432x288 with 1 Axes>"
      ]
     },
     "metadata": {
      "needs_background": "light"
     },
     "output_type": "display_data"
    }
   ],
   "source": [
    "#Land Value\n",
    "sns.histplot(data=df, x=\"Land Value\", log_scale=True, element=\"step\", fill=False)"
   ]
  },
  {
   "cell_type": "code",
   "execution_count": 27,
   "id": "27c8353d",
   "metadata": {},
   "outputs": [
    {
     "data": {
      "text/plain": [
       "<AxesSubplot:xlabel='Building Value', ylabel='Count'>"
      ]
     },
     "execution_count": 27,
     "metadata": {},
     "output_type": "execute_result"
    },
    {
     "data": {
      "image/png": "[encoded data removed]",
      "text/plain": [
       "<Figure size 432x288 with 1 Axes>"
      ]
     },
     "metadata": {
      "needs_background": "light"
     },
     "output_type": "display_data"
    }
   ],
   "source": [
    "#Building Value\n",
    "sns.histplot(data=df, x=\"Building Value\", log_scale=True, element=\"step\", fill=False)"
   ]
  },
  {
   "cell_type": "code",
   "execution_count": 28,
   "id": "861401ed",
   "metadata": {},
   "outputs": [
    {
     "data": {
      "text/plain": [
       "<AxesSubplot:xlabel='Finished Area', ylabel='Count'>"
      ]
     },
     "execution_count": 28,
     "metadata": {},
     "output_type": "execute_result"
    },
    {
     "data": {
      "image/png": "[encoded data removed]",
      "text/plain": [
       "<Figure size 432x288 with 1 Axes>"
      ]
     },
     "metadata": {
      "needs_background": "light"
     },
     "output_type": "display_data"
    }
   ],
   "source": [
    "#Finished Area\n",
    "sns.histplot(data=df, x=\"Finished Area\", log_scale=True, element=\"step\", fill=False)"
   ]
  },
  {
   "cell_type": "code",
   "execution_count": 29,
   "id": "58ad0fac",
   "metadata": {},
   "outputs": [
    {
     "data": {
      "text/plain": [
       "[Text(0, 0, '3121'),\n",
       " Text(0, 0, '1427'),\n",
       " Text(0, 0, '3802'),\n",
       " Text(0, 0, '14148'),\n",
       " Text(0, 0, '36'),\n",
       " Text(0, 0, '2')]"
      ]
     },
     "execution_count": 29,
     "metadata": {},
     "output_type": "execute_result"
    },
    {
     "data": {
      "image/png": "[encoded data removed]",
      "text/plain": [
       "<Figure size 432x288 with 1 Axes>"
      ]
     },
     "metadata": {
      "needs_background": "light"
     },
     "output_type": "display_data"
    }
   ],
   "source": [
    "#Foundation Type\n",
    "plot = sns.countplot(x=df[\"Foundation Type\"])\n",
    "plt.setp(plot.get_xticklabels(), rotation=90)\n",
    "plot.bar_label(plot.containers[0])"
   ]
  },
  {
   "cell_type": "code",
   "execution_count": 30,
   "id": "f7c5797c",
   "metadata": {},
   "outputs": [
    {
     "data": {
      "text/plain": [
       "<AxesSubplot:ylabel='Year Built'>"
      ]
     },
     "execution_count": 30,
     "metadata": {},
     "output_type": "execute_result"
    },
    {
     "data": {
      "image/png": "[encoded data removed]",
      "text/plain": [
       "<Figure size 432x288 with 1 Axes>"
      ]
     },
     "metadata": {
      "needs_background": "light"
     },
     "output_type": "display_data"
    }
   ],
   "source": [
    "#Year Built\n",
    "sns.boxplot(y=df[\"Year Built\"])"
   ]
  },
  {
   "cell_type": "code",
   "execution_count": 31,
   "id": "98df05b1",
   "metadata": {},
   "outputs": [
    {
     "data": {
      "text/plain": [
       "[Text(0, 0, '11512'),\n",
       " Text(0, 0, '2217'),\n",
       " Text(0, 0, '8098'),\n",
       " Text(0, 0, '104'),\n",
       " Text(0, 0, '328'),\n",
       " Text(0, 0, '156'),\n",
       " Text(0, 0, '99'),\n",
       " Text(0, 0, '15'),\n",
       " Text(0, 0, '7')]"
      ]
     },
     "execution_count": 31,
     "metadata": {},
     "output_type": "execute_result"
    },
    {
     "data": {
      "image/png": "[encoded data removed]",
      "text/plain": [
       "<Figure size 432x288 with 1 Axes>"
      ]
     },
     "metadata": {
      "needs_background": "light"
     },
     "output_type": "display_data"
    }
   ],
   "source": [
    "#Exterior Wall \n",
    "plot = sns.countplot(x=df[\"Exterior Wall\"])\n",
    "plt.setp(plot.get_xticklabels(), rotation=90)\n",
    "plot.bar_label(plot.containers[0])"
   ]
  },
  {
   "cell_type": "code",
   "execution_count": 32,
   "id": "8b33ea41",
   "metadata": {},
   "outputs": [
    {
     "data": {
      "text/plain": [
       "[Text(0, 0, '16162'),\n",
       " Text(0, 0, '3375'),\n",
       " Text(0, 0, '1911'),\n",
       " Text(0, 0, '547'),\n",
       " Text(0, 0, '482'),\n",
       " Text(0, 0, '57'),\n",
       " Text(0, 0, '1'),\n",
       " Text(0, 0, '1')]"
      ]
     },
     "execution_count": 32,
     "metadata": {},
     "output_type": "execute_result"
    },
    {
     "data": {
      "image/png": "[encoded data removed]",
      "text/plain": [
       "<Figure size 432x288 with 1 Axes>"
      ]
     },
     "metadata": {
      "needs_background": "light"
     },
     "output_type": "display_data"
    }
   ],
   "source": [
    "#Grade\n",
    "plot = sns.countplot(x=df[\"Grade\"])\n",
    "plt.setp(plot.get_xticklabels(), rotation=90)\n",
    "plot.bar_label(plot.containers[0])"
   ]
  },
  {
   "cell_type": "code",
   "execution_count": 33,
   "id": "f38e3925",
   "metadata": {},
   "outputs": [
    {
     "data": {
      "text/plain": [
       "<AxesSubplot:ylabel='Bedrooms'>"
      ]
     },
     "execution_count": 33,
     "metadata": {},
     "output_type": "execute_result"
    },
    {
     "data": {
      "image/png": "[encoded data removed]",
      "text/plain": [
       "<Figure size 432x288 with 1 Axes>"
      ]
     },
     "metadata": {
      "needs_background": "light"
     },
     "output_type": "display_data"
    }
   ],
   "source": [
    "#Bedrooms\n",
    "sns.boxplot(y=df[\"Bedrooms\"])"
   ]
  },
  {
   "cell_type": "code",
   "execution_count": 34,
   "id": "896babbe",
   "metadata": {},
   "outputs": [
    {
     "data": {
      "text/plain": [
       "<AxesSubplot:ylabel='Full Bath'>"
      ]
     },
     "execution_count": 34,
     "metadata": {},
     "output_type": "execute_result"
    },
    {
     "data": {
      "image/png": "[encoded data removed]",
      "text/plain": [
       "<Figure size 432x288 with 1 Axes>"
      ]
     },
     "metadata": {
      "needs_background": "light"
     },
     "output_type": "display_data"
    }
   ],
   "source": [
    "#Full Bath\n",
    "sns.boxplot(y=df[\"Full Bath\"])"
   ]
  },
  {
   "cell_type": "code",
   "execution_count": 35,
   "id": "97de7a48",
   "metadata": {},
   "outputs": [
    {
     "data": {
      "text/plain": [
       "<AxesSubplot:ylabel='Half Bath'>"
      ]
     },
     "execution_count": 35,
     "metadata": {},
     "output_type": "execute_result"
    },
    {
     "data": {
      "image/png": "[encoded data removed]",
      "text/plain": [
       "<Figure size 432x288 with 1 Axes>"
      ]
     },
     "metadata": {
      "needs_background": "light"
     },
     "output_type": "display_data"
    }
   ],
   "source": [
    "#Half Bath\n",
    "sns.boxplot(y=df[\"Half Bath\"])"
   ]
  },
  {
   "cell_type": "code",
   "execution_count": 36,
   "id": "b66ec541",
   "metadata": {},
   "outputs": [
    {
     "data": {
      "text/plain": [
       "[Text(0, 0, '16979'), Text(0, 0, '5557')]"
      ]
     },
     "execution_count": 36,
     "metadata": {},
     "output_type": "execute_result"
    },
    {
     "data": {
      "image/png": "[encoded data removed]",
      "text/plain": [
       "<Figure size 432x288 with 1 Axes>"
      ]
     },
     "metadata": {
      "needs_background": "light"
     },
     "output_type": "display_data"
    }
   ],
   "source": [
    "#Sale Price Compared To Value\n",
    "plot = sns.countplot(x=df[\"Sale Price Compared To Value\"])\n",
    "plot.bar_label(plot.containers[0])"
   ]
  },
  {
   "cell_type": "code",
   "execution_count": 37,
   "id": "c7945135",
   "metadata": {},
   "outputs": [],
   "source": [
    "#Convert over to 1 and under to 0\n",
    "df['Sale Price Compared To Value'] = df['Sale Price Compared To Value'].map({'Over': 1, 'Under': 0})"
   ]
  },
  {
   "cell_type": "code",
   "execution_count": 38,
   "id": "8ea7ca19",
   "metadata": {},
   "outputs": [],
   "source": [
    "#convert categorical variables into dummy variable\n",
    "df = pd.get_dummies(df, columns=['Land Use','Property City','Tax District','Foundation Type','Exterior Wall','Grade'])"
   ]
  },
  {
   "cell_type": "code",
   "execution_count": 39,
   "id": "5e366a0d",
   "metadata": {},
   "outputs": [],
   "source": [
    "df = df.drop(columns = ['Unnamed: 0','Parcel ID','Property Address','Legal Reference'])"
   ]
  },
  {
   "cell_type": "code",
   "execution_count": 40,
   "id": "9d6d72c2",
   "metadata": {},
   "outputs": [
    {
     "name": "stdout",
     "output_type": "stream",
     "text": [
      "<class 'pandas.core.frame.DataFrame'>\n",
      "Int64Index: 22536 entries, 0 to 22650\n",
      "Data columns (total 59 columns):\n",
      " #   Column                                  Non-Null Count  Dtype  \n",
      "---  ------                                  --------------  -----  \n",
      " 0   Sold As Vacant                          22536 non-null  int64  \n",
      " 1   Multiple Parcels Involved in Sale       22536 non-null  int64  \n",
      " 2   Acreage                                 22536 non-null  float64\n",
      " 3   Neighborhood                            22536 non-null  int64  \n",
      " 4   Land Value                              22536 non-null  int64  \n",
      " 5   Building Value                          22536 non-null  int64  \n",
      " 6   Finished Area                           22536 non-null  float64\n",
      " 7   Year Built                              22536 non-null  int64  \n",
      " 8   Bedrooms                                22536 non-null  float64\n",
      " 9   Full Bath                               22536 non-null  float64\n",
      " 10  Half Bath                               22536 non-null  float64\n",
      " 11  Sale Price Compared To Value            22536 non-null  int64  \n",
      " 12  Year_Sale                               22536 non-null  int64  \n",
      " 13  Month_Sale                              22536 non-null  int64  \n",
      " 14  Day_Sale                                22536 non-null  int64  \n",
      " 15  Land Use_DUPLEX                         22536 non-null  uint8  \n",
      " 16  Land Use_QUADPLEX                       22536 non-null  uint8  \n",
      " 17  Land Use_RESIDENTIAL COMBO/MISC         22536 non-null  uint8  \n",
      " 18  Land Use_SINGLE FAMILY                  22536 non-null  uint8  \n",
      " 19  Property City_ANTIOCH                   22536 non-null  uint8  \n",
      " 20  Property City_BRENTWOOD                 22536 non-null  uint8  \n",
      " 21  Property City_GOODLETTSVILLE            22536 non-null  uint8  \n",
      " 22  Property City_HERMITAGE                 22536 non-null  uint8  \n",
      " 23  Property City_JOELTON                   22536 non-null  uint8  \n",
      " 24  Property City_MADISON                   22536 non-null  uint8  \n",
      " 25  Property City_MOUNT JULIET              22536 non-null  uint8  \n",
      " 26  Property City_NASHVILLE                 22536 non-null  uint8  \n",
      " 27  Property City_OLD HICKORY               22536 non-null  uint8  \n",
      " 28  Property City_WHITES CREEK              22536 non-null  uint8  \n",
      " 29  Tax District_CITY OF BELLE MEADE        22536 non-null  uint8  \n",
      " 30  Tax District_CITY OF BERRY HILL         22536 non-null  uint8  \n",
      " 31  Tax District_CITY OF FOREST HILLS       22536 non-null  uint8  \n",
      " 32  Tax District_CITY OF GOODLETTSVILLE     22536 non-null  uint8  \n",
      " 33  Tax District_CITY OF OAK HILL           22536 non-null  uint8  \n",
      " 34  Tax District_GENERAL SERVICES DISTRICT  22536 non-null  uint8  \n",
      " 35  Tax District_URBAN SERVICES DISTRICT    22536 non-null  uint8  \n",
      " 36  Foundation Type_CRAWL                   22536 non-null  uint8  \n",
      " 37  Foundation Type_FULL BSMT               22536 non-null  uint8  \n",
      " 38  Foundation Type_PIERS                   22536 non-null  uint8  \n",
      " 39  Foundation Type_PT BSMT                 22536 non-null  uint8  \n",
      " 40  Foundation Type_SLAB                    22536 non-null  uint8  \n",
      " 41  Foundation Type_TYPICAL                 22536 non-null  uint8  \n",
      " 42  Exterior Wall_BRICK                     22536 non-null  uint8  \n",
      " 43  Exterior Wall_BRICK/FRAME               22536 non-null  uint8  \n",
      " 44  Exterior Wall_CONC BLK                  22536 non-null  uint8  \n",
      " 45  Exterior Wall_FRAME                     22536 non-null  uint8  \n",
      " 46  Exterior Wall_FRAME/STONE               22536 non-null  uint8  \n",
      " 47  Exterior Wall_LOG                       22536 non-null  uint8  \n",
      " 48  Exterior Wall_METAL                     22536 non-null  uint8  \n",
      " 49  Exterior Wall_STONE                     22536 non-null  uint8  \n",
      " 50  Exterior Wall_STUCCO                    22536 non-null  uint8  \n",
      " 51  Grade_A                                 22536 non-null  uint8  \n",
      " 52  Grade_B                                 22536 non-null  uint8  \n",
      " 53  Grade_C                                 22536 non-null  uint8  \n",
      " 54  Grade_D                                 22536 non-null  uint8  \n",
      " 55  Grade_E                                 22536 non-null  uint8  \n",
      " 56  Grade_OFB                               22536 non-null  uint8  \n",
      " 57  Grade_SSC                               22536 non-null  uint8  \n",
      " 58  Grade_X                                 22536 non-null  uint8  \n",
      "dtypes: float64(5), int64(10), uint8(44)\n",
      "memory usage: 4.2 MB\n"
     ]
    }
   ],
   "source": [
    "df.info()"
   ]
  },
  {
   "cell_type": "markdown",
   "id": "9ef24573",
   "metadata": {},
   "source": [
    "# Part 2:\n",
    "\n",
    "Build a linear regression model to accurately predict housing prices and determine what is driving those prices."
   ]
  },
  {
   "cell_type": "code",
   "execution_count": 41,
   "id": "5143548c",
   "metadata": {},
   "outputs": [],
   "source": [
    "from sklearn.linear_model import LogisticRegression\n",
    "import statsmodels.api as sm\n",
    "from sklearn.metrics import classification_report,confusion_matrix\n",
    "from sklearn.model_selection import train_test_split\n",
    "import matplotlib.pyplot as plt\n",
    "from sklearn.metrics import precision_score, recall_score, f1_score, accuracy_score"
   ]
  },
  {
   "cell_type": "code",
   "execution_count": 42,
   "id": "a5e01b55",
   "metadata": {},
   "outputs": [],
   "source": [
    "X = df.drop(columns = ['Sale Price Compared To Value'])\n",
    "\n",
    "y = df['Sale Price Compared To Value']"
   ]
  },
  {
   "cell_type": "code",
   "execution_count": 43,
   "id": "6b6fca61",
   "metadata": {},
   "outputs": [],
   "source": [
    "#Train, test split, sets aside 33% of the samples in the original dataset for testing.\n",
    "X_train, X_test, y_train, y_test = train_test_split(X, y, test_size=0.33, random_state=1)"
   ]
  },
  {
   "cell_type": "code",
   "execution_count": 44,
   "id": "3b808cd7",
   "metadata": {},
   "outputs": [
    {
     "name": "stdout",
     "output_type": "stream",
     "text": [
      "0.754619511225909\n"
     ]
    }
   ],
   "source": [
    "#Logistic regression model fitting\n",
    "LR = LogisticRegression(max_iter=2000)\n",
    "LR_Model = LR.fit(X_train,y_train)\n",
    "print(LR_Model.score(X_train,y_train))"
   ]
  },
  {
   "cell_type": "code",
   "execution_count": 86,
   "id": "0c44853c",
   "metadata": {},
   "outputs": [],
   "source": [
    "from sklearn.feature_selection import RFE"
   ]
  },
  {
   "cell_type": "code",
   "execution_count": 87,
   "id": "8362fe3a",
   "metadata": {},
   "outputs": [
    {
     "name": "stdout",
     "output_type": "stream",
     "text": [
      "Significant features from RFE Index(['Sold As Vacant', 'Acreage', 'Neighborhood', 'Land Value',\n",
      "       'Building Value', 'Finished Area', 'Year Built', 'Bedrooms',\n",
      "       'Year_Sale', 'Month_Sale', 'Day_Sale', 'Land Use_DUPLEX',\n",
      "       'Land Use_SINGLE FAMILY', 'Property City_ANTIOCH',\n",
      "       'Property City_HERMITAGE', 'Property City_MADISON',\n",
      "       'Property City_NASHVILLE', 'Property City_OLD HICKORY',\n",
      "       'Tax District_CITY OF BELLE MEADE',\n",
      "       'Tax District_GENERAL SERVICES DISTRICT',\n",
      "       'Tax District_URBAN SERVICES DISTRICT', 'Foundation Type_CRAWL',\n",
      "       'Foundation Type_SLAB', 'Exterior Wall_BRICK',\n",
      "       'Exterior Wall_BRICK/FRAME', 'Exterior Wall_FRAME', 'Grade_A   ',\n",
      "       'Grade_C   ', 'Grade_D   '],\n",
      "      dtype='object')\n"
     ]
    }
   ],
   "source": [
    "LR = LogisticRegression(max_iter=2000)\n",
    "\n",
    "LR_rfe_model=RFE(estimator=LR)\n",
    "\n",
    "LR_rfe_model_fit=LR_rfe_model.fit(X_train,y_train)\n",
    "\n",
    "feat_index = pd.Series(data = LR_rfe_model_fit.ranking_, index = X_train.columns)\n",
    "\n",
    "signi_feat_rfe = feat_index[feat_index==1].index\n",
    "\n",
    "print('Significant features from RFE',signi_feat_rfe)"
   ]
  },
  {
   "cell_type": "code",
   "execution_count": 45,
   "id": "e23f329a",
   "metadata": {},
   "outputs": [],
   "source": [
    "# Test out of sample prediction \n",
    "y_pred = LR.predict(X_test)\n",
    "\n",
    "#Display confusion matrix\n",
    "cm_LR = confusion_matrix(y_test, y_pred)"
   ]
  },
  {
   "cell_type": "code",
   "execution_count": 46,
   "id": "63caa45d",
   "metadata": {},
   "outputs": [
    {
     "data": {
      "image/png": "[encoded data removed]",
      "text/plain": [
       "<Figure size 360x360 with 1 Axes>"
      ]
     },
     "metadata": {
      "needs_background": "light"
     },
     "output_type": "display_data"
    }
   ],
   "source": [
    "fig, ax = plt.subplots(figsize=(5, 5))\n",
    "ax.matshow(cm_LR, cmap=plt.cm.Oranges, alpha=0.3)\n",
    "for i in range(cm_LR.shape[0]):\n",
    "    for j in range(cm_LR.shape[1]):\n",
    "        ax.text(x=j, y=i,s=cm_LR[i, j], va='center', ha='center', size='xx-large')\n",
    " \n",
    "plt.xlabel('Predictions', fontsize=18)\n",
    "plt.ylabel('Actuals', fontsize=18)\n",
    "plt.title('Confusion Matrix', fontsize=18)\n",
    "plt.show()"
   ]
  },
  {
   "cell_type": "code",
   "execution_count": 47,
   "id": "e366d907",
   "metadata": {},
   "outputs": [
    {
     "name": "stdout",
     "output_type": "stream",
     "text": [
      "Accuracy: 0.753\n"
     ]
    }
   ],
   "source": [
    "print('Accuracy: %.3f' % accuracy_score(y_test, y_pred))"
   ]
  },
  {
   "cell_type": "code",
   "execution_count": 48,
   "id": "8e13647b",
   "metadata": {},
   "outputs": [
    {
     "name": "stdout",
     "output_type": "stream",
     "text": [
      "Precision: 0.754\n"
     ]
    }
   ],
   "source": [
    "print('Precision: %.3f' % precision_score(y_test, y_pred))"
   ]
  },
  {
   "cell_type": "code",
   "execution_count": 49,
   "id": "0fd5b552",
   "metadata": {},
   "outputs": [
    {
     "name": "stdout",
     "output_type": "stream",
     "text": [
      "Recall: 0.997\n"
     ]
    }
   ],
   "source": [
    "print('Recall: %.3f' % recall_score(y_test, y_pred))"
   ]
  },
  {
   "cell_type": "markdown",
   "id": "2dbcbb52",
   "metadata": {},
   "source": [
    "# Part 3:\n",
    "\n",
    "Build a decision tree model and compare the results with the results of the previous model."
   ]
  },
  {
   "cell_type": "code",
   "execution_count": 50,
   "id": "43fc0cf3",
   "metadata": {},
   "outputs": [],
   "source": [
    "from sklearn.tree import DecisionTreeClassifier\n",
    "import matplotlib.pyplot as plt\n",
    "from sklearn import tree\n",
    "from matplotlib import pyplot"
   ]
  },
  {
   "cell_type": "code",
   "execution_count": 51,
   "id": "232a3340",
   "metadata": {},
   "outputs": [
    {
     "name": "stdout",
     "output_type": "stream",
     "text": [
      "0.9998013113451222\n"
     ]
    }
   ],
   "source": [
    "#Apply decision tree\n",
    "DT = DecisionTreeClassifier()\n",
    "DT.fit(X_train,y_train)\n",
    "print(DT.score(X_train,y_train))"
   ]
  },
  {
   "cell_type": "code",
   "execution_count": 52,
   "id": "56015155",
   "metadata": {},
   "outputs": [
    {
     "data": {
      "image/png": "[encoded data removed]",
      "text/plain": [
       "<Figure size 432x288 with 1 Axes>"
      ]
     },
     "metadata": {
      "needs_background": "light"
     },
     "output_type": "display_data"
    }
   ],
   "source": [
    "# get importance\n",
    "importance = DT.feature_importances_\n",
    "# plot feature importance\n",
    "pyplot.bar([x for x in range(len(importance))], importance)\n",
    "pyplot.show()"
   ]
  },
  {
   "cell_type": "code",
   "execution_count": 53,
   "id": "58a9c56e",
   "metadata": {},
   "outputs": [
    {
     "data": {
      "text/html": [
       "<div>\n",
       "<style scoped>\n",
       "    .dataframe tbody tr th:only-of-type {\n",
       "        vertical-align: middle;\n",
       "    }\n",
       "\n",
       "    .dataframe tbody tr th {\n",
       "        vertical-align: top;\n",
       "    }\n",
       "\n",
       "    .dataframe thead th {\n",
       "        text-align: right;\n",
       "    }\n",
       "</style>\n",
       "<table border=\"1\" class=\"dataframe\">\n",
       "  <thead>\n",
       "    <tr style=\"text-align: right;\">\n",
       "      <th></th>\n",
       "      <th>0</th>\n",
       "    </tr>\n",
       "  </thead>\n",
       "  <tbody>\n",
       "    <tr>\n",
       "      <th>5</th>\n",
       "      <td>0.123100</td>\n",
       "    </tr>\n",
       "    <tr>\n",
       "      <th>7</th>\n",
       "      <td>0.118247</td>\n",
       "    </tr>\n",
       "    <tr>\n",
       "      <th>11</th>\n",
       "      <td>0.108457</td>\n",
       "    </tr>\n",
       "    <tr>\n",
       "      <th>6</th>\n",
       "      <td>0.100356</td>\n",
       "    </tr>\n",
       "    <tr>\n",
       "      <th>2</th>\n",
       "      <td>0.099267</td>\n",
       "    </tr>\n",
       "    <tr>\n",
       "      <th>13</th>\n",
       "      <td>0.086975</td>\n",
       "    </tr>\n",
       "    <tr>\n",
       "      <th>4</th>\n",
       "      <td>0.085692</td>\n",
       "    </tr>\n",
       "    <tr>\n",
       "      <th>12</th>\n",
       "      <td>0.065419</td>\n",
       "    </tr>\n",
       "    <tr>\n",
       "      <th>3</th>\n",
       "      <td>0.056430</td>\n",
       "    </tr>\n",
       "    <tr>\n",
       "      <th>8</th>\n",
       "      <td>0.021328</td>\n",
       "    </tr>\n",
       "    <tr>\n",
       "      <th>9</th>\n",
       "      <td>0.017745</td>\n",
       "    </tr>\n",
       "    <tr>\n",
       "      <th>36</th>\n",
       "      <td>0.010191</td>\n",
       "    </tr>\n",
       "    <tr>\n",
       "      <th>10</th>\n",
       "      <td>0.009282</td>\n",
       "    </tr>\n",
       "    <tr>\n",
       "      <th>35</th>\n",
       "      <td>0.008830</td>\n",
       "    </tr>\n",
       "    <tr>\n",
       "      <th>41</th>\n",
       "      <td>0.007418</td>\n",
       "    </tr>\n",
       "    <tr>\n",
       "      <th>38</th>\n",
       "      <td>0.006209</td>\n",
       "    </tr>\n",
       "    <tr>\n",
       "      <th>25</th>\n",
       "      <td>0.005873</td>\n",
       "    </tr>\n",
       "    <tr>\n",
       "      <th>26</th>\n",
       "      <td>0.005412</td>\n",
       "    </tr>\n",
       "    <tr>\n",
       "      <th>23</th>\n",
       "      <td>0.005405</td>\n",
       "    </tr>\n",
       "    <tr>\n",
       "      <th>44</th>\n",
       "      <td>0.005207</td>\n",
       "    </tr>\n",
       "    <tr>\n",
       "      <th>42</th>\n",
       "      <td>0.005082</td>\n",
       "    </tr>\n",
       "    <tr>\n",
       "      <th>33</th>\n",
       "      <td>0.004459</td>\n",
       "    </tr>\n",
       "    <tr>\n",
       "      <th>53</th>\n",
       "      <td>0.004036</td>\n",
       "    </tr>\n",
       "    <tr>\n",
       "      <th>39</th>\n",
       "      <td>0.003686</td>\n",
       "    </tr>\n",
       "    <tr>\n",
       "      <th>52</th>\n",
       "      <td>0.003620</td>\n",
       "    </tr>\n",
       "    <tr>\n",
       "      <th>14</th>\n",
       "      <td>0.003463</td>\n",
       "    </tr>\n",
       "    <tr>\n",
       "      <th>51</th>\n",
       "      <td>0.003292</td>\n",
       "    </tr>\n",
       "    <tr>\n",
       "      <th>48</th>\n",
       "      <td>0.003114</td>\n",
       "    </tr>\n",
       "    <tr>\n",
       "      <th>34</th>\n",
       "      <td>0.002606</td>\n",
       "    </tr>\n",
       "    <tr>\n",
       "      <th>0</th>\n",
       "      <td>0.002460</td>\n",
       "    </tr>\n",
       "    <tr>\n",
       "      <th>1</th>\n",
       "      <td>0.002288</td>\n",
       "    </tr>\n",
       "    <tr>\n",
       "      <th>18</th>\n",
       "      <td>0.001934</td>\n",
       "    </tr>\n",
       "    <tr>\n",
       "      <th>21</th>\n",
       "      <td>0.001795</td>\n",
       "    </tr>\n",
       "    <tr>\n",
       "      <th>49</th>\n",
       "      <td>0.001672</td>\n",
       "    </tr>\n",
       "    <tr>\n",
       "      <th>17</th>\n",
       "      <td>0.001340</td>\n",
       "    </tr>\n",
       "    <tr>\n",
       "      <th>43</th>\n",
       "      <td>0.001276</td>\n",
       "    </tr>\n",
       "    <tr>\n",
       "      <th>20</th>\n",
       "      <td>0.001162</td>\n",
       "    </tr>\n",
       "    <tr>\n",
       "      <th>50</th>\n",
       "      <td>0.001147</td>\n",
       "    </tr>\n",
       "    <tr>\n",
       "      <th>31</th>\n",
       "      <td>0.000980</td>\n",
       "    </tr>\n",
       "    <tr>\n",
       "      <th>30</th>\n",
       "      <td>0.000877</td>\n",
       "    </tr>\n",
       "    <tr>\n",
       "      <th>54</th>\n",
       "      <td>0.000700</td>\n",
       "    </tr>\n",
       "    <tr>\n",
       "      <th>16</th>\n",
       "      <td>0.000657</td>\n",
       "    </tr>\n",
       "    <tr>\n",
       "      <th>32</th>\n",
       "      <td>0.000625</td>\n",
       "    </tr>\n",
       "    <tr>\n",
       "      <th>22</th>\n",
       "      <td>0.000556</td>\n",
       "    </tr>\n",
       "    <tr>\n",
       "      <th>28</th>\n",
       "      <td>0.000328</td>\n",
       "    </tr>\n",
       "    <tr>\n",
       "      <th>55</th>\n",
       "      <td>0.000000</td>\n",
       "    </tr>\n",
       "    <tr>\n",
       "      <th>56</th>\n",
       "      <td>0.000000</td>\n",
       "    </tr>\n",
       "    <tr>\n",
       "      <th>29</th>\n",
       "      <td>0.000000</td>\n",
       "    </tr>\n",
       "    <tr>\n",
       "      <th>47</th>\n",
       "      <td>0.000000</td>\n",
       "    </tr>\n",
       "    <tr>\n",
       "      <th>46</th>\n",
       "      <td>0.000000</td>\n",
       "    </tr>\n",
       "    <tr>\n",
       "      <th>45</th>\n",
       "      <td>0.000000</td>\n",
       "    </tr>\n",
       "    <tr>\n",
       "      <th>40</th>\n",
       "      <td>0.000000</td>\n",
       "    </tr>\n",
       "    <tr>\n",
       "      <th>37</th>\n",
       "      <td>0.000000</td>\n",
       "    </tr>\n",
       "    <tr>\n",
       "      <th>27</th>\n",
       "      <td>0.000000</td>\n",
       "    </tr>\n",
       "    <tr>\n",
       "      <th>24</th>\n",
       "      <td>0.000000</td>\n",
       "    </tr>\n",
       "    <tr>\n",
       "      <th>19</th>\n",
       "      <td>0.000000</td>\n",
       "    </tr>\n",
       "    <tr>\n",
       "      <th>15</th>\n",
       "      <td>0.000000</td>\n",
       "    </tr>\n",
       "    <tr>\n",
       "      <th>57</th>\n",
       "      <td>0.000000</td>\n",
       "    </tr>\n",
       "  </tbody>\n",
       "</table>\n",
       "</div>"
      ],
      "text/plain": [
       "           0\n",
       "5   0.123100\n",
       "7   0.118247\n",
       "11  0.108457\n",
       "6   0.100356\n",
       "2   0.099267\n",
       "13  0.086975\n",
       "4   0.085692\n",
       "12  0.065419\n",
       "3   0.056430\n",
       "8   0.021328\n",
       "9   0.017745\n",
       "36  0.010191\n",
       "10  0.009282\n",
       "35  0.008830\n",
       "41  0.007418\n",
       "38  0.006209\n",
       "25  0.005873\n",
       "26  0.005412\n",
       "23  0.005405\n",
       "44  0.005207\n",
       "42  0.005082\n",
       "33  0.004459\n",
       "53  0.004036\n",
       "39  0.003686\n",
       "52  0.003620\n",
       "14  0.003463\n",
       "51  0.003292\n",
       "48  0.003114\n",
       "34  0.002606\n",
       "0   0.002460\n",
       "1   0.002288\n",
       "18  0.001934\n",
       "21  0.001795\n",
       "49  0.001672\n",
       "17  0.001340\n",
       "43  0.001276\n",
       "20  0.001162\n",
       "50  0.001147\n",
       "31  0.000980\n",
       "30  0.000877\n",
       "54  0.000700\n",
       "16  0.000657\n",
       "32  0.000625\n",
       "22  0.000556\n",
       "28  0.000328\n",
       "55  0.000000\n",
       "56  0.000000\n",
       "29  0.000000\n",
       "47  0.000000\n",
       "46  0.000000\n",
       "45  0.000000\n",
       "40  0.000000\n",
       "37  0.000000\n",
       "27  0.000000\n",
       "24  0.000000\n",
       "19  0.000000\n",
       "15  0.000000\n",
       "57  0.000000"
      ]
     },
     "execution_count": 53,
     "metadata": {},
     "output_type": "execute_result"
    }
   ],
   "source": [
    "pd.DataFrame(importance).sort_values(by = 0, ascending=False)"
   ]
  },
  {
   "cell_type": "code",
   "execution_count": 54,
   "id": "ca18702a",
   "metadata": {},
   "outputs": [],
   "source": [
    "# Test out of sample prediction \n",
    "y_pred = DT.predict(X_test)\n",
    "\n",
    "#Display confusion matrix\n",
    "cm_DT = confusion_matrix(y_test, y_pred)"
   ]
  },
  {
   "cell_type": "code",
   "execution_count": 55,
   "id": "418d844c",
   "metadata": {},
   "outputs": [
    {
     "data": {
      "image/png": "[encoded data removed]",
      "text/plain": [
       "<Figure size 360x360 with 1 Axes>"
      ]
     },
     "metadata": {
      "needs_background": "light"
     },
     "output_type": "display_data"
    }
   ],
   "source": [
    "fig, ax = plt.subplots(figsize=(5, 5))\n",
    "ax.matshow(cm_DT, cmap=plt.cm.Oranges, alpha=0.3)\n",
    "for i in range(cm_DT.shape[0]):\n",
    "    for j in range(cm_DT.shape[1]):\n",
    "        ax.text(x=j, y=i,s=cm_DT[i, j], va='center', ha='center', size='xx-large')\n",
    " \n",
    "plt.xlabel('Predictions', fontsize=18)\n",
    "plt.ylabel('Actuals', fontsize=18)\n",
    "plt.title('Confusion Matrix', fontsize=18)\n",
    "plt.show()"
   ]
  },
  {
   "cell_type": "code",
   "execution_count": 56,
   "id": "92c5f251",
   "metadata": {},
   "outputs": [
    {
     "name": "stdout",
     "output_type": "stream",
     "text": [
      "Accuracy: 0.711\n"
     ]
    }
   ],
   "source": [
    "print('Accuracy: %.3f' % accuracy_score(y_test, y_pred))"
   ]
  },
  {
   "cell_type": "code",
   "execution_count": 57,
   "id": "a808ba13",
   "metadata": {},
   "outputs": [
    {
     "name": "stdout",
     "output_type": "stream",
     "text": [
      "Precision: 0.808\n"
     ]
    }
   ],
   "source": [
    "print('Precision: %.3f' % precision_score(y_test, y_pred))"
   ]
  },
  {
   "cell_type": "code",
   "execution_count": 58,
   "id": "6add790b",
   "metadata": {},
   "outputs": [
    {
     "name": "stdout",
     "output_type": "stream",
     "text": [
      "Recall: 0.807\n"
     ]
    }
   ],
   "source": [
    "print('Recall: %.3f' % recall_score(y_test, y_pred))"
   ]
  },
  {
   "cell_type": "markdown",
   "id": "db6b0451",
   "metadata": {},
   "source": [
    "# Part 4:\n",
    "\n",
    "Build a Random Forest model and compare the results with the results of the previous models."
   ]
  },
  {
   "cell_type": "code",
   "execution_count": 59,
   "id": "72d5973d",
   "metadata": {},
   "outputs": [],
   "source": [
    "from sklearn.ensemble import RandomForestClassifier"
   ]
  },
  {
   "cell_type": "code",
   "execution_count": 60,
   "id": "99ddbf85",
   "metadata": {},
   "outputs": [
    {
     "name": "stdout",
     "output_type": "stream",
     "text": [
      "0.9998013113451222\n"
     ]
    }
   ],
   "source": [
    "rf = RandomForestClassifier()\n",
    "rf.fit(X_train,y_train)\n",
    "print(rf.score(X_train,y_train))"
   ]
  },
  {
   "cell_type": "code",
   "execution_count": 61,
   "id": "03054a0c",
   "metadata": {},
   "outputs": [
    {
     "data": {
      "image/png": "[encoded data removed]",
      "text/plain": [
       "<Figure size 432x288 with 1 Axes>"
      ]
     },
     "metadata": {
      "needs_background": "light"
     },
     "output_type": "display_data"
    }
   ],
   "source": [
    "# get importance\n",
    "importance = rf.feature_importances_\n",
    "pyplot.bar([x for x in range(len(importance))], importance)\n",
    "pyplot.show()"
   ]
  },
  {
   "cell_type": "code",
   "execution_count": 62,
   "id": "718cd041",
   "metadata": {},
   "outputs": [
    {
     "data": {
      "text/html": [
       "<div>\n",
       "<style scoped>\n",
       "    .dataframe tbody tr th:only-of-type {\n",
       "        vertical-align: middle;\n",
       "    }\n",
       "\n",
       "    .dataframe tbody tr th {\n",
       "        vertical-align: top;\n",
       "    }\n",
       "\n",
       "    .dataframe thead th {\n",
       "        text-align: right;\n",
       "    }\n",
       "</style>\n",
       "<table border=\"1\" class=\"dataframe\">\n",
       "  <thead>\n",
       "    <tr style=\"text-align: right;\">\n",
       "      <th></th>\n",
       "      <th>0</th>\n",
       "    </tr>\n",
       "  </thead>\n",
       "  <tbody>\n",
       "    <tr>\n",
       "      <th>11</th>\n",
       "      <td>0.106355</td>\n",
       "    </tr>\n",
       "    <tr>\n",
       "      <th>5</th>\n",
       "      <td>0.105517</td>\n",
       "    </tr>\n",
       "    <tr>\n",
       "      <th>6</th>\n",
       "      <td>0.097936</td>\n",
       "    </tr>\n",
       "    <tr>\n",
       "      <th>7</th>\n",
       "      <td>0.093483</td>\n",
       "    </tr>\n",
       "    <tr>\n",
       "      <th>2</th>\n",
       "      <td>0.083713</td>\n",
       "    </tr>\n",
       "    <tr>\n",
       "      <th>13</th>\n",
       "      <td>0.081438</td>\n",
       "    </tr>\n",
       "    <tr>\n",
       "      <th>4</th>\n",
       "      <td>0.080576</td>\n",
       "    </tr>\n",
       "    <tr>\n",
       "      <th>12</th>\n",
       "      <td>0.071321</td>\n",
       "    </tr>\n",
       "    <tr>\n",
       "      <th>3</th>\n",
       "      <td>0.065904</td>\n",
       "    </tr>\n",
       "    <tr>\n",
       "      <th>8</th>\n",
       "      <td>0.027118</td>\n",
       "    </tr>\n",
       "    <tr>\n",
       "      <th>9</th>\n",
       "      <td>0.024675</td>\n",
       "    </tr>\n",
       "    <tr>\n",
       "      <th>10</th>\n",
       "      <td>0.014865</td>\n",
       "    </tr>\n",
       "    <tr>\n",
       "      <th>35</th>\n",
       "      <td>0.012310</td>\n",
       "    </tr>\n",
       "    <tr>\n",
       "      <th>41</th>\n",
       "      <td>0.011414</td>\n",
       "    </tr>\n",
       "    <tr>\n",
       "      <th>36</th>\n",
       "      <td>0.010546</td>\n",
       "    </tr>\n",
       "    <tr>\n",
       "      <th>44</th>\n",
       "      <td>0.010443</td>\n",
       "    </tr>\n",
       "    <tr>\n",
       "      <th>38</th>\n",
       "      <td>0.008818</td>\n",
       "    </tr>\n",
       "    <tr>\n",
       "      <th>0</th>\n",
       "      <td>0.007450</td>\n",
       "    </tr>\n",
       "    <tr>\n",
       "      <th>52</th>\n",
       "      <td>0.007342</td>\n",
       "    </tr>\n",
       "    <tr>\n",
       "      <th>42</th>\n",
       "      <td>0.006437</td>\n",
       "    </tr>\n",
       "    <tr>\n",
       "      <th>39</th>\n",
       "      <td>0.005543</td>\n",
       "    </tr>\n",
       "    <tr>\n",
       "      <th>34</th>\n",
       "      <td>0.005068</td>\n",
       "    </tr>\n",
       "    <tr>\n",
       "      <th>51</th>\n",
       "      <td>0.004994</td>\n",
       "    </tr>\n",
       "    <tr>\n",
       "      <th>17</th>\n",
       "      <td>0.004979</td>\n",
       "    </tr>\n",
       "    <tr>\n",
       "      <th>25</th>\n",
       "      <td>0.004964</td>\n",
       "    </tr>\n",
       "    <tr>\n",
       "      <th>14</th>\n",
       "      <td>0.004701</td>\n",
       "    </tr>\n",
       "    <tr>\n",
       "      <th>33</th>\n",
       "      <td>0.004375</td>\n",
       "    </tr>\n",
       "    <tr>\n",
       "      <th>1</th>\n",
       "      <td>0.003760</td>\n",
       "    </tr>\n",
       "    <tr>\n",
       "      <th>53</th>\n",
       "      <td>0.003712</td>\n",
       "    </tr>\n",
       "    <tr>\n",
       "      <th>23</th>\n",
       "      <td>0.003621</td>\n",
       "    </tr>\n",
       "    <tr>\n",
       "      <th>48</th>\n",
       "      <td>0.002809</td>\n",
       "    </tr>\n",
       "    <tr>\n",
       "      <th>26</th>\n",
       "      <td>0.002790</td>\n",
       "    </tr>\n",
       "    <tr>\n",
       "      <th>18</th>\n",
       "      <td>0.002449</td>\n",
       "    </tr>\n",
       "    <tr>\n",
       "      <th>21</th>\n",
       "      <td>0.002244</td>\n",
       "    </tr>\n",
       "    <tr>\n",
       "      <th>50</th>\n",
       "      <td>0.002022</td>\n",
       "    </tr>\n",
       "    <tr>\n",
       "      <th>20</th>\n",
       "      <td>0.001470</td>\n",
       "    </tr>\n",
       "    <tr>\n",
       "      <th>57</th>\n",
       "      <td>0.001379</td>\n",
       "    </tr>\n",
       "    <tr>\n",
       "      <th>49</th>\n",
       "      <td>0.001327</td>\n",
       "    </tr>\n",
       "    <tr>\n",
       "      <th>32</th>\n",
       "      <td>0.001299</td>\n",
       "    </tr>\n",
       "    <tr>\n",
       "      <th>31</th>\n",
       "      <td>0.001121</td>\n",
       "    </tr>\n",
       "    <tr>\n",
       "      <th>30</th>\n",
       "      <td>0.001034</td>\n",
       "    </tr>\n",
       "    <tr>\n",
       "      <th>43</th>\n",
       "      <td>0.000957</td>\n",
       "    </tr>\n",
       "    <tr>\n",
       "      <th>28</th>\n",
       "      <td>0.000845</td>\n",
       "    </tr>\n",
       "    <tr>\n",
       "      <th>19</th>\n",
       "      <td>0.000842</td>\n",
       "    </tr>\n",
       "    <tr>\n",
       "      <th>16</th>\n",
       "      <td>0.000833</td>\n",
       "    </tr>\n",
       "    <tr>\n",
       "      <th>54</th>\n",
       "      <td>0.000826</td>\n",
       "    </tr>\n",
       "    <tr>\n",
       "      <th>45</th>\n",
       "      <td>0.000794</td>\n",
       "    </tr>\n",
       "    <tr>\n",
       "      <th>37</th>\n",
       "      <td>0.000369</td>\n",
       "    </tr>\n",
       "    <tr>\n",
       "      <th>22</th>\n",
       "      <td>0.000305</td>\n",
       "    </tr>\n",
       "    <tr>\n",
       "      <th>15</th>\n",
       "      <td>0.000271</td>\n",
       "    </tr>\n",
       "    <tr>\n",
       "      <th>27</th>\n",
       "      <td>0.000208</td>\n",
       "    </tr>\n",
       "    <tr>\n",
       "      <th>29</th>\n",
       "      <td>0.000174</td>\n",
       "    </tr>\n",
       "    <tr>\n",
       "      <th>47</th>\n",
       "      <td>0.000079</td>\n",
       "    </tr>\n",
       "    <tr>\n",
       "      <th>46</th>\n",
       "      <td>0.000071</td>\n",
       "    </tr>\n",
       "    <tr>\n",
       "      <th>56</th>\n",
       "      <td>0.000056</td>\n",
       "    </tr>\n",
       "    <tr>\n",
       "      <th>40</th>\n",
       "      <td>0.000034</td>\n",
       "    </tr>\n",
       "    <tr>\n",
       "      <th>24</th>\n",
       "      <td>0.000016</td>\n",
       "    </tr>\n",
       "    <tr>\n",
       "      <th>55</th>\n",
       "      <td>0.000000</td>\n",
       "    </tr>\n",
       "  </tbody>\n",
       "</table>\n",
       "</div>"
      ],
      "text/plain": [
       "           0\n",
       "11  0.106355\n",
       "5   0.105517\n",
       "6   0.097936\n",
       "7   0.093483\n",
       "2   0.083713\n",
       "13  0.081438\n",
       "4   0.080576\n",
       "12  0.071321\n",
       "3   0.065904\n",
       "8   0.027118\n",
       "9   0.024675\n",
       "10  0.014865\n",
       "35  0.012310\n",
       "41  0.011414\n",
       "36  0.010546\n",
       "44  0.010443\n",
       "38  0.008818\n",
       "0   0.007450\n",
       "52  0.007342\n",
       "42  0.006437\n",
       "39  0.005543\n",
       "34  0.005068\n",
       "51  0.004994\n",
       "17  0.004979\n",
       "25  0.004964\n",
       "14  0.004701\n",
       "33  0.004375\n",
       "1   0.003760\n",
       "53  0.003712\n",
       "23  0.003621\n",
       "48  0.002809\n",
       "26  0.002790\n",
       "18  0.002449\n",
       "21  0.002244\n",
       "50  0.002022\n",
       "20  0.001470\n",
       "57  0.001379\n",
       "49  0.001327\n",
       "32  0.001299\n",
       "31  0.001121\n",
       "30  0.001034\n",
       "43  0.000957\n",
       "28  0.000845\n",
       "19  0.000842\n",
       "16  0.000833\n",
       "54  0.000826\n",
       "45  0.000794\n",
       "37  0.000369\n",
       "22  0.000305\n",
       "15  0.000271\n",
       "27  0.000208\n",
       "29  0.000174\n",
       "47  0.000079\n",
       "46  0.000071\n",
       "56  0.000056\n",
       "40  0.000034\n",
       "24  0.000016\n",
       "55  0.000000"
      ]
     },
     "execution_count": 62,
     "metadata": {},
     "output_type": "execute_result"
    }
   ],
   "source": [
    "pd.DataFrame(importance).sort_values(by = 0, ascending=False)"
   ]
  },
  {
   "cell_type": "code",
   "execution_count": 63,
   "id": "a2edebe1",
   "metadata": {},
   "outputs": [],
   "source": [
    "# Test out of sample prediction \n",
    "y_pred = rf.predict(X_test)\n",
    "\n",
    "#Display confusion matrix\n",
    "cm_rf = confusion_matrix(y_test, y_pred)"
   ]
  },
  {
   "cell_type": "code",
   "execution_count": 64,
   "id": "89a062fe",
   "metadata": {},
   "outputs": [
    {
     "data": {
      "image/png": "[encoded data removed]",
      "text/plain": [
       "<Figure size 360x360 with 1 Axes>"
      ]
     },
     "metadata": {
      "needs_background": "light"
     },
     "output_type": "display_data"
    }
   ],
   "source": [
    "fig, ax = plt.subplots(figsize=(5, 5))\n",
    "ax.matshow(cm_rf, cmap=plt.cm.Oranges, alpha=0.3)\n",
    "for i in range(cm_rf.shape[0]):\n",
    "    for j in range(cm_rf.shape[1]):\n",
    "        ax.text(x=j, y=i,s=cm_rf[i, j], va='center', ha='center', size='xx-large')\n",
    " \n",
    "plt.xlabel('Predictions', fontsize=18)\n",
    "plt.ylabel('Actuals', fontsize=18)\n",
    "plt.title('Confusion Matrix', fontsize=18)\n",
    "plt.show()"
   ]
  },
  {
   "cell_type": "code",
   "execution_count": 65,
   "id": "4c9db197",
   "metadata": {},
   "outputs": [
    {
     "name": "stdout",
     "output_type": "stream",
     "text": [
      "Accuracy: 0.784\n"
     ]
    }
   ],
   "source": [
    "print('Accuracy: %.3f' % accuracy_score(y_test, y_pred))"
   ]
  },
  {
   "cell_type": "code",
   "execution_count": 66,
   "id": "467131f9",
   "metadata": {},
   "outputs": [
    {
     "name": "stdout",
     "output_type": "stream",
     "text": [
      "Precision: 0.796\n"
     ]
    }
   ],
   "source": [
    "print('Precision: %.3f' % precision_score(y_test, y_pred))"
   ]
  },
  {
   "cell_type": "code",
   "execution_count": 67,
   "id": "2d83aecf",
   "metadata": {},
   "outputs": [
    {
     "name": "stdout",
     "output_type": "stream",
     "text": [
      "Recall: 0.958\n"
     ]
    }
   ],
   "source": [
    "print('Recall: %.3f' % recall_score(y_test, y_pred))"
   ]
  },
  {
   "cell_type": "markdown",
   "id": "0dea75ff",
   "metadata": {},
   "source": [
    "# Part 5:\n",
    "\n",
    "Build a Gradient Boost model and compare the results with the results of the previous models."
   ]
  },
  {
   "cell_type": "code",
   "execution_count": 75,
   "id": "8da33461",
   "metadata": {},
   "outputs": [],
   "source": [
    "from sklearn.ensemble import GradientBoostingClassifier"
   ]
  },
  {
   "cell_type": "code",
   "execution_count": 76,
   "id": "61139bf4",
   "metadata": {},
   "outputs": [
    {
     "name": "stdout",
     "output_type": "stream",
     "text": [
      "0.8006490496059342\n"
     ]
    }
   ],
   "source": [
    "gb = GradientBoostingClassifier()\n",
    "gb.fit(X_train,y_train)\n",
    "print(gb.score(X_train,y_train))"
   ]
  },
  {
   "cell_type": "code",
   "execution_count": 77,
   "id": "4d5ecb34",
   "metadata": {},
   "outputs": [
    {
     "data": {
      "image/png": "[encoded data removed]",
      "text/plain": [
       "<Figure size 432x288 with 1 Axes>"
      ]
     },
     "metadata": {
      "needs_background": "light"
     },
     "output_type": "display_data"
    }
   ],
   "source": [
    "# get importance\n",
    "importance = gb.feature_importances_\n",
    "pyplot.bar([x for x in range(len(importance))], importance)\n",
    "pyplot.show()"
   ]
  },
  {
   "cell_type": "code",
   "execution_count": 79,
   "id": "e71748b3",
   "metadata": {},
   "outputs": [
    {
     "name": "stdout",
     "output_type": "stream",
     "text": [
      "<class 'pandas.core.frame.DataFrame'>\n",
      "Int64Index: 15099 entries, 7222 to 236\n",
      "Data columns (total 58 columns):\n",
      " #   Column                                  Non-Null Count  Dtype  \n",
      "---  ------                                  --------------  -----  \n",
      " 0   Sold As Vacant                          15099 non-null  int64  \n",
      " 1   Multiple Parcels Involved in Sale       15099 non-null  int64  \n",
      " 2   Acreage                                 15099 non-null  float64\n",
      " 3   Neighborhood                            15099 non-null  int64  \n",
      " 4   Land Value                              15099 non-null  int64  \n",
      " 5   Building Value                          15099 non-null  int64  \n",
      " 6   Finished Area                           15099 non-null  float64\n",
      " 7   Year Built                              15099 non-null  int64  \n",
      " 8   Bedrooms                                15099 non-null  float64\n",
      " 9   Full Bath                               15099 non-null  float64\n",
      " 10  Half Bath                               15099 non-null  float64\n",
      " 11  Year_Sale                               15099 non-null  int64  \n",
      " 12  Month_Sale                              15099 non-null  int64  \n",
      " 13  Day_Sale                                15099 non-null  int64  \n",
      " 14  Land Use_DUPLEX                         15099 non-null  uint8  \n",
      " 15  Land Use_QUADPLEX                       15099 non-null  uint8  \n",
      " 16  Land Use_RESIDENTIAL COMBO/MISC         15099 non-null  uint8  \n",
      " 17  Land Use_SINGLE FAMILY                  15099 non-null  uint8  \n",
      " 18  Property City_ANTIOCH                   15099 non-null  uint8  \n",
      " 19  Property City_BRENTWOOD                 15099 non-null  uint8  \n",
      " 20  Property City_GOODLETTSVILLE            15099 non-null  uint8  \n",
      " 21  Property City_HERMITAGE                 15099 non-null  uint8  \n",
      " 22  Property City_JOELTON                   15099 non-null  uint8  \n",
      " 23  Property City_MADISON                   15099 non-null  uint8  \n",
      " 24  Property City_MOUNT JULIET              15099 non-null  uint8  \n",
      " 25  Property City_NASHVILLE                 15099 non-null  uint8  \n",
      " 26  Property City_OLD HICKORY               15099 non-null  uint8  \n",
      " 27  Property City_WHITES CREEK              15099 non-null  uint8  \n",
      " 28  Tax District_CITY OF BELLE MEADE        15099 non-null  uint8  \n",
      " 29  Tax District_CITY OF BERRY HILL         15099 non-null  uint8  \n",
      " 30  Tax District_CITY OF FOREST HILLS       15099 non-null  uint8  \n",
      " 31  Tax District_CITY OF GOODLETTSVILLE     15099 non-null  uint8  \n",
      " 32  Tax District_CITY OF OAK HILL           15099 non-null  uint8  \n",
      " 33  Tax District_GENERAL SERVICES DISTRICT  15099 non-null  uint8  \n",
      " 34  Tax District_URBAN SERVICES DISTRICT    15099 non-null  uint8  \n",
      " 35  Foundation Type_CRAWL                   15099 non-null  uint8  \n",
      " 36  Foundation Type_FULL BSMT               15099 non-null  uint8  \n",
      " 37  Foundation Type_PIERS                   15099 non-null  uint8  \n",
      " 38  Foundation Type_PT BSMT                 15099 non-null  uint8  \n",
      " 39  Foundation Type_SLAB                    15099 non-null  uint8  \n",
      " 40  Foundation Type_TYPICAL                 15099 non-null  uint8  \n",
      " 41  Exterior Wall_BRICK                     15099 non-null  uint8  \n",
      " 42  Exterior Wall_BRICK/FRAME               15099 non-null  uint8  \n",
      " 43  Exterior Wall_CONC BLK                  15099 non-null  uint8  \n",
      " 44  Exterior Wall_FRAME                     15099 non-null  uint8  \n",
      " 45  Exterior Wall_FRAME/STONE               15099 non-null  uint8  \n",
      " 46  Exterior Wall_LOG                       15099 non-null  uint8  \n",
      " 47  Exterior Wall_METAL                     15099 non-null  uint8  \n",
      " 48  Exterior Wall_STONE                     15099 non-null  uint8  \n",
      " 49  Exterior Wall_STUCCO                    15099 non-null  uint8  \n",
      " 50  Grade_A                                 15099 non-null  uint8  \n",
      " 51  Grade_B                                 15099 non-null  uint8  \n",
      " 52  Grade_C                                 15099 non-null  uint8  \n",
      " 53  Grade_D                                 15099 non-null  uint8  \n",
      " 54  Grade_E                                 15099 non-null  uint8  \n",
      " 55  Grade_OFB                               15099 non-null  uint8  \n",
      " 56  Grade_SSC                               15099 non-null  uint8  \n",
      " 57  Grade_X                                 15099 non-null  uint8  \n",
      "dtypes: float64(5), int64(9), uint8(44)\n",
      "memory usage: 2.4 MB\n"
     ]
    }
   ],
   "source": [
    "X_train.info()"
   ]
  },
  {
   "cell_type": "code",
   "execution_count": 78,
   "id": "d9bc9c0d",
   "metadata": {},
   "outputs": [
    {
     "data": {
      "text/html": [
       "<div>\n",
       "<style scoped>\n",
       "    .dataframe tbody tr th:only-of-type {\n",
       "        vertical-align: middle;\n",
       "    }\n",
       "\n",
       "    .dataframe tbody tr th {\n",
       "        vertical-align: top;\n",
       "    }\n",
       "\n",
       "    .dataframe thead th {\n",
       "        text-align: right;\n",
       "    }\n",
       "</style>\n",
       "<table border=\"1\" class=\"dataframe\">\n",
       "  <thead>\n",
       "    <tr style=\"text-align: right;\">\n",
       "      <th></th>\n",
       "      <th>0</th>\n",
       "    </tr>\n",
       "  </thead>\n",
       "  <tbody>\n",
       "    <tr>\n",
       "      <th>11</th>\n",
       "      <td>0.472730</td>\n",
       "    </tr>\n",
       "    <tr>\n",
       "      <th>7</th>\n",
       "      <td>0.160304</td>\n",
       "    </tr>\n",
       "    <tr>\n",
       "      <th>4</th>\n",
       "      <td>0.093279</td>\n",
       "    </tr>\n",
       "    <tr>\n",
       "      <th>5</th>\n",
       "      <td>0.077011</td>\n",
       "    </tr>\n",
       "    <tr>\n",
       "      <th>12</th>\n",
       "      <td>0.056348</td>\n",
       "    </tr>\n",
       "    <tr>\n",
       "      <th>2</th>\n",
       "      <td>0.022303</td>\n",
       "    </tr>\n",
       "    <tr>\n",
       "      <th>13</th>\n",
       "      <td>0.019740</td>\n",
       "    </tr>\n",
       "    <tr>\n",
       "      <th>6</th>\n",
       "      <td>0.018027</td>\n",
       "    </tr>\n",
       "    <tr>\n",
       "      <th>23</th>\n",
       "      <td>0.015732</td>\n",
       "    </tr>\n",
       "    <tr>\n",
       "      <th>3</th>\n",
       "      <td>0.015195</td>\n",
       "    </tr>\n",
       "    <tr>\n",
       "      <th>0</th>\n",
       "      <td>0.013649</td>\n",
       "    </tr>\n",
       "    <tr>\n",
       "      <th>9</th>\n",
       "      <td>0.006770</td>\n",
       "    </tr>\n",
       "    <tr>\n",
       "      <th>26</th>\n",
       "      <td>0.003843</td>\n",
       "    </tr>\n",
       "    <tr>\n",
       "      <th>8</th>\n",
       "      <td>0.003544</td>\n",
       "    </tr>\n",
       "    <tr>\n",
       "      <th>14</th>\n",
       "      <td>0.003154</td>\n",
       "    </tr>\n",
       "    <tr>\n",
       "      <th>1</th>\n",
       "      <td>0.002540</td>\n",
       "    </tr>\n",
       "    <tr>\n",
       "      <th>17</th>\n",
       "      <td>0.002299</td>\n",
       "    </tr>\n",
       "    <tr>\n",
       "      <th>54</th>\n",
       "      <td>0.002152</td>\n",
       "    </tr>\n",
       "    <tr>\n",
       "      <th>39</th>\n",
       "      <td>0.001983</td>\n",
       "    </tr>\n",
       "    <tr>\n",
       "      <th>18</th>\n",
       "      <td>0.001886</td>\n",
       "    </tr>\n",
       "    <tr>\n",
       "      <th>36</th>\n",
       "      <td>0.001483</td>\n",
       "    </tr>\n",
       "    <tr>\n",
       "      <th>34</th>\n",
       "      <td>0.001219</td>\n",
       "    </tr>\n",
       "    <tr>\n",
       "      <th>49</th>\n",
       "      <td>0.001039</td>\n",
       "    </tr>\n",
       "    <tr>\n",
       "      <th>10</th>\n",
       "      <td>0.000764</td>\n",
       "    </tr>\n",
       "    <tr>\n",
       "      <th>38</th>\n",
       "      <td>0.000560</td>\n",
       "    </tr>\n",
       "    <tr>\n",
       "      <th>22</th>\n",
       "      <td>0.000560</td>\n",
       "    </tr>\n",
       "    <tr>\n",
       "      <th>41</th>\n",
       "      <td>0.000425</td>\n",
       "    </tr>\n",
       "    <tr>\n",
       "      <th>33</th>\n",
       "      <td>0.000388</td>\n",
       "    </tr>\n",
       "    <tr>\n",
       "      <th>16</th>\n",
       "      <td>0.000334</td>\n",
       "    </tr>\n",
       "    <tr>\n",
       "      <th>21</th>\n",
       "      <td>0.000260</td>\n",
       "    </tr>\n",
       "    <tr>\n",
       "      <th>44</th>\n",
       "      <td>0.000213</td>\n",
       "    </tr>\n",
       "    <tr>\n",
       "      <th>30</th>\n",
       "      <td>0.000177</td>\n",
       "    </tr>\n",
       "    <tr>\n",
       "      <th>19</th>\n",
       "      <td>0.000078</td>\n",
       "    </tr>\n",
       "    <tr>\n",
       "      <th>57</th>\n",
       "      <td>0.000012</td>\n",
       "    </tr>\n",
       "    <tr>\n",
       "      <th>32</th>\n",
       "      <td>0.000000</td>\n",
       "    </tr>\n",
       "    <tr>\n",
       "      <th>35</th>\n",
       "      <td>0.000000</td>\n",
       "    </tr>\n",
       "    <tr>\n",
       "      <th>56</th>\n",
       "      <td>0.000000</td>\n",
       "    </tr>\n",
       "    <tr>\n",
       "      <th>55</th>\n",
       "      <td>0.000000</td>\n",
       "    </tr>\n",
       "    <tr>\n",
       "      <th>15</th>\n",
       "      <td>0.000000</td>\n",
       "    </tr>\n",
       "    <tr>\n",
       "      <th>53</th>\n",
       "      <td>0.000000</td>\n",
       "    </tr>\n",
       "    <tr>\n",
       "      <th>52</th>\n",
       "      <td>0.000000</td>\n",
       "    </tr>\n",
       "    <tr>\n",
       "      <th>51</th>\n",
       "      <td>0.000000</td>\n",
       "    </tr>\n",
       "    <tr>\n",
       "      <th>50</th>\n",
       "      <td>0.000000</td>\n",
       "    </tr>\n",
       "    <tr>\n",
       "      <th>20</th>\n",
       "      <td>0.000000</td>\n",
       "    </tr>\n",
       "    <tr>\n",
       "      <th>48</th>\n",
       "      <td>0.000000</td>\n",
       "    </tr>\n",
       "    <tr>\n",
       "      <th>47</th>\n",
       "      <td>0.000000</td>\n",
       "    </tr>\n",
       "    <tr>\n",
       "      <th>46</th>\n",
       "      <td>0.000000</td>\n",
       "    </tr>\n",
       "    <tr>\n",
       "      <th>45</th>\n",
       "      <td>0.000000</td>\n",
       "    </tr>\n",
       "    <tr>\n",
       "      <th>24</th>\n",
       "      <td>0.000000</td>\n",
       "    </tr>\n",
       "    <tr>\n",
       "      <th>43</th>\n",
       "      <td>0.000000</td>\n",
       "    </tr>\n",
       "    <tr>\n",
       "      <th>42</th>\n",
       "      <td>0.000000</td>\n",
       "    </tr>\n",
       "    <tr>\n",
       "      <th>25</th>\n",
       "      <td>0.000000</td>\n",
       "    </tr>\n",
       "    <tr>\n",
       "      <th>40</th>\n",
       "      <td>0.000000</td>\n",
       "    </tr>\n",
       "    <tr>\n",
       "      <th>27</th>\n",
       "      <td>0.000000</td>\n",
       "    </tr>\n",
       "    <tr>\n",
       "      <th>28</th>\n",
       "      <td>0.000000</td>\n",
       "    </tr>\n",
       "    <tr>\n",
       "      <th>37</th>\n",
       "      <td>0.000000</td>\n",
       "    </tr>\n",
       "    <tr>\n",
       "      <th>31</th>\n",
       "      <td>0.000000</td>\n",
       "    </tr>\n",
       "    <tr>\n",
       "      <th>29</th>\n",
       "      <td>0.000000</td>\n",
       "    </tr>\n",
       "  </tbody>\n",
       "</table>\n",
       "</div>"
      ],
      "text/plain": [
       "           0\n",
       "11  0.472730\n",
       "7   0.160304\n",
       "4   0.093279\n",
       "5   0.077011\n",
       "12  0.056348\n",
       "2   0.022303\n",
       "13  0.019740\n",
       "6   0.018027\n",
       "23  0.015732\n",
       "3   0.015195\n",
       "0   0.013649\n",
       "9   0.006770\n",
       "26  0.003843\n",
       "8   0.003544\n",
       "14  0.003154\n",
       "1   0.002540\n",
       "17  0.002299\n",
       "54  0.002152\n",
       "39  0.001983\n",
       "18  0.001886\n",
       "36  0.001483\n",
       "34  0.001219\n",
       "49  0.001039\n",
       "10  0.000764\n",
       "38  0.000560\n",
       "22  0.000560\n",
       "41  0.000425\n",
       "33  0.000388\n",
       "16  0.000334\n",
       "21  0.000260\n",
       "44  0.000213\n",
       "30  0.000177\n",
       "19  0.000078\n",
       "57  0.000012\n",
       "32  0.000000\n",
       "35  0.000000\n",
       "56  0.000000\n",
       "55  0.000000\n",
       "15  0.000000\n",
       "53  0.000000\n",
       "52  0.000000\n",
       "51  0.000000\n",
       "50  0.000000\n",
       "20  0.000000\n",
       "48  0.000000\n",
       "47  0.000000\n",
       "46  0.000000\n",
       "45  0.000000\n",
       "24  0.000000\n",
       "43  0.000000\n",
       "42  0.000000\n",
       "25  0.000000\n",
       "40  0.000000\n",
       "27  0.000000\n",
       "28  0.000000\n",
       "37  0.000000\n",
       "31  0.000000\n",
       "29  0.000000"
      ]
     },
     "execution_count": 78,
     "metadata": {},
     "output_type": "execute_result"
    }
   ],
   "source": [
    "pd.DataFrame(importance).sort_values(by = 0, ascending=False)"
   ]
  },
  {
   "cell_type": "code",
   "execution_count": 70,
   "id": "90631b5b",
   "metadata": {},
   "outputs": [],
   "source": [
    "# Test out of sample prediction \n",
    "y_pred = gb.predict(X_test)\n",
    "\n",
    "#Display confusion matrix\n",
    "cm_gb = confusion_matrix(y_test, y_pred)"
   ]
  },
  {
   "cell_type": "code",
   "execution_count": 71,
   "id": "ef0aa0bc",
   "metadata": {},
   "outputs": [
    {
     "data": {
      "image/png": "[encoded data removed]",
      "text/plain": [
       "<Figure size 360x360 with 1 Axes>"
      ]
     },
     "metadata": {
      "needs_background": "light"
     },
     "output_type": "display_data"
    }
   ],
   "source": [
    "fig, ax = plt.subplots(figsize=(5, 5))\n",
    "ax.matshow(cm_gb, cmap=plt.cm.Oranges, alpha=0.3)\n",
    "for i in range(cm_gb.shape[0]):\n",
    "    for j in range(cm_gb.shape[1]):\n",
    "        ax.text(x=j, y=i,s=cm_gb[i, j], va='center', ha='center', size='xx-large')\n",
    " \n",
    "plt.xlabel('Predictions', fontsize=18)\n",
    "plt.ylabel('Actuals', fontsize=18)\n",
    "plt.title('Confusion Matrix', fontsize=18)\n",
    "plt.show()"
   ]
  },
  {
   "cell_type": "code",
   "execution_count": 72,
   "id": "a124a34c",
   "metadata": {},
   "outputs": [
    {
     "name": "stdout",
     "output_type": "stream",
     "text": [
      "Accuracy: 0.783\n"
     ]
    }
   ],
   "source": [
    "print('Accuracy: %.3f' % accuracy_score(y_test, y_pred))"
   ]
  },
  {
   "cell_type": "code",
   "execution_count": 73,
   "id": "936f3c8d",
   "metadata": {},
   "outputs": [
    {
     "name": "stdout",
     "output_type": "stream",
     "text": [
      "Precision: 0.792\n"
     ]
    }
   ],
   "source": [
    "print('Precision: %.3f' % precision_score(y_test, y_pred))"
   ]
  },
  {
   "cell_type": "code",
   "execution_count": 74,
   "id": "2fc4d27c",
   "metadata": {},
   "outputs": [
    {
     "name": "stdout",
     "output_type": "stream",
     "text": [
      "Recall: 0.965\n"
     ]
    }
   ],
   "source": [
    "print('Recall: %.3f' % recall_score(y_test, y_pred))"
   ]
  },
  {
   "cell_type": "markdown",
   "id": "0db686d4",
   "metadata": {},
   "source": [
    "# Part 6:\n",
    "\n",
    "Use multiple benchmarking metrics to compare and contrast the three models. Based on your findings, provide evidence of which model you believe the real estate company should use."
   ]
  }
 ],
 "metadata": {
  "kernelspec": {
   "display_name": "Python 3 (ipykernel)",
   "language": "python",
   "name": "python3"
  },
  "language_info": {
   "codemirror_mode": {
    "name": "ipython",
    "version": 3
   },
   "file_extension": ".py",
   "mimetype": "text/x-python",
   "name": "python",
   "nbconvert_exporter": "python",
   "pygments_lexer": "ipython3",
   "version": "3.9.7"
  }
 },
 "nbformat": 4,
 "nbformat_minor": 5
}
